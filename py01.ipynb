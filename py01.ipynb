{
  "nbformat": 4,
  "nbformat_minor": 0,
  "metadata": {
    "colab": {
      "name": "py01.ipynb",
      "provenance": [],
      "collapsed_sections": [],
      "authorship_tag": "ABX9TyODCRcArBc2y0JMDqT+cCWd",
      "include_colab_link": true
    },
    "kernelspec": {
      "name": "python3",
      "display_name": "Python 3"
    },
    "language_info": {
      "name": "python"
    }
  },
  "cells": [
    {
      "cell_type": "markdown",
      "metadata": {
        "id": "view-in-github",
        "colab_type": "text"
      },
      "source": [
        "<a href=\"https://colab.research.google.com/github/rkdud3936/Colab/blob/main/py01.ipynb\" target=\"_parent\"><img src=\"https://colab.research.google.com/assets/colab-badge.svg\" alt=\"Open In Colab\"/></a>"
      ]
    },
    {
      "cell_type": "markdown",
      "source": [
        "# Python 버전 확인\n"
      ],
      "metadata": {
        "id": "tgemwz0_XoxP"
      }
    },
    {
      "cell_type": "code",
      "source": [
        "# Colab 가상 머신에 설치된 Python 버전 확인 \n",
        "!python --version"
      ],
      "metadata": {
        "colab": {
          "base_uri": "https://localhost:8080/"
        },
        "id": "JSD8CgVeUSnO",
        "outputId": "0134d5b5-5c26-4c4e-c8ab-b8e364508320"
      },
      "execution_count": null,
      "outputs": [
        {
          "output_type": "stream",
          "name": "stdout",
          "text": [
            "Python 3.7.12\n"
          ]
        }
      ]
    },
    {
      "cell_type": "markdown",
      "source": [
        "# print 함수"
      ],
      "metadata": {
        "id": "J6KtVYcxYV_0"
      }
    },
    {
      "cell_type": "code",
      "execution_count": null,
      "metadata": {
        "colab": {
          "base_uri": "https://localhost:8080/"
        },
        "id": "sRawKW3kSSZF",
        "outputId": "99b94065-ad35-4d22-90c0-d9a6394e1238"
      },
      "outputs": [
        {
          "output_type": "stream",
          "name": "stdout",
          "text": [
            "Hello, python!\n"
          ]
        }
      ],
      "source": [
        "print('Hello, python!')"
      ]
    },
    {
      "cell_type": "markdown",
      "source": [
        "## 여러가지 print 방법"
      ],
      "metadata": {
        "id": "ANnlmjBXedeL"
      }
    },
    {
      "cell_type": "code",
      "source": [
        "print('안녕', 'Hello', 'Bon Jour')"
      ],
      "metadata": {
        "colab": {
          "base_uri": "https://localhost:8080/"
        },
        "id": "c9CZQDe-e4fj",
        "outputId": "3691ade9-9fa6-482c-a371-caada4b98ac2"
      },
      "execution_count": null,
      "outputs": [
        {
          "output_type": "stream",
          "name": "stdout",
          "text": [
            "안녕 Hello Bon Jour\n"
          ]
        }
      ]
    },
    {
      "cell_type": "markdown",
      "source": [
        "`print()` 함수에 여러개의 argument를 전달하면, 각 argument들을 공백으로 연결해서 한줄에 출력."
      ],
      "metadata": {
        "id": "-DCt5-5tfPWb"
      }
    },
    {
      "cell_type": "code",
      "source": [
        "print(1, 2, 3)"
      ],
      "metadata": {
        "colab": {
          "base_uri": "https://localhost:8080/"
        },
        "id": "hC3VkQvhfpav",
        "outputId": "826cb59b-9971-4174-9ce7-0035112183c4"
      },
      "execution_count": null,
      "outputs": [
        {
          "output_type": "stream",
          "name": "stdout",
          "text": [
            "1 2 3\n"
          ]
        }
      ]
    },
    {
      "cell_type": "code",
      "source": [
        "print(1, '+', 2, '=', 3)"
      ],
      "metadata": {
        "colab": {
          "base_uri": "https://localhost:8080/"
        },
        "id": "88RgSZuef4RH",
        "outputId": "358eebae-84d3-4cd0-91da-1d1879a3ec9d"
      },
      "execution_count": null,
      "outputs": [
        {
          "output_type": "stream",
          "name": "stdout",
          "text": [
            "1 + 2 = 3\n"
          ]
        }
      ]
    },
    {
      "cell_type": "code",
      "source": [
        "print(1, '+', 2 , '=', (1 + 2) )"
      ],
      "metadata": {
        "colab": {
          "base_uri": "https://localhost:8080/"
        },
        "id": "63qTry1Bf9mU",
        "outputId": "18f9925b-30d0-4734-dd01-2b78b394102e"
      },
      "execution_count": null,
      "outputs": [
        {
          "output_type": "stream",
          "name": "stdout",
          "text": [
            "1 + 2 = 3\n"
          ]
        }
      ]
    },
    {
      "cell_type": "markdown",
      "source": [
        "## `format()` 메서드를 사용한 출력"
      ],
      "metadata": {
        "id": "su1aXZ0ihIHD"
      }
    },
    {
      "cell_type": "code",
      "source": [
        "print('{} + {} = {}'. format(1, 2, (1 + 2)))"
      ],
      "metadata": {
        "colab": {
          "base_uri": "https://localhost:8080/"
        },
        "id": "w08Rp9cNhRgp",
        "outputId": "16fca3c6-02d6-48dc-dd59-499c382e6ae2"
      },
      "execution_count": null,
      "outputs": [
        {
          "output_type": "stream",
          "name": "stdout",
          "text": [
            "1 + 2 = 3\n"
          ]
        }
      ]
    },
    {
      "cell_type": "code",
      "source": [
        "print('{x} + {y} = {z}'. format(x=1, y=2, z=3))"
      ],
      "metadata": {
        "colab": {
          "base_uri": "https://localhost:8080/"
        },
        "id": "x9zcOGACiEcF",
        "outputId": "11b017c2-59c9-4cc2-939d-082f83052dc9"
      },
      "execution_count": null,
      "outputs": [
        {
          "output_type": "stream",
          "name": "stdout",
          "text": [
            "1 + 2 = 3\n"
          ]
        }
      ]
    },
    {
      "cell_type": "markdown",
      "source": [
        "## formatted string을 사용한 출력\n",
        "\n",
        "Phthon 3.6 버전 이상에서마 사용 가능. "
      ],
      "metadata": {
        "id": "5C8iYr9ziq4K"
      }
    },
    {
      "cell_type": "code",
      "source": [
        "# 변수 = 값\n",
        "a = 1\n",
        "b = 2 "
      ],
      "metadata": {
        "id": "kDPGUtT4jHoC"
      },
      "execution_count": null,
      "outputs": []
    },
    {
      "cell_type": "code",
      "source": [
        "print(f'{a} + {b} = {a+b}')"
      ],
      "metadata": {
        "colab": {
          "base_uri": "https://localhost:8080/"
        },
        "id": "SB-SzuPpjLuL",
        "outputId": "c1d73e9d-09d8-4292-d130-b30c0e4a4e31"
      },
      "execution_count": null,
      "outputs": [
        {
          "output_type": "stream",
          "name": "stdout",
          "text": [
            "1 + 2 = 3\n"
          ]
        }
      ]
    },
    {
      "cell_type": "markdown",
      "source": [
        "# 코드 셀 실행 방법\n",
        "\n",
        "* 실행 버튼 클릭\n",
        "* Ctrl+Enter: 현재 포커스가 있는 셀을 실행\n",
        "* Shift+Enter: 현재 포거스가 있는 셀을 실행하고 다음 셀로 포커스를 이동, 만약 다음 셀이 없으면 새로운 코드 셀을 생성.\n",
        "* 런타임 메뉴"
      ],
      "metadata": {
        "id": "Kic3tv7ekM0C"
      }
    }
  ]
}