{
  "nbformat": 4,
  "nbformat_minor": 0,
  "metadata": {
    "colab": {
      "name": "py10_function.ipynb",
      "provenance": [],
      "collapsed_sections": [
        "PUQ2rPc4OONb",
        "iVTcCFVyU5bw"
      ],
      "authorship_tag": "ABX9TyNGADNq9B1LbCN043/l/bGM",
      "include_colab_link": true
    },
    "kernelspec": {
      "name": "python3",
      "display_name": "Python 3"
    },
    "language_info": {
      "name": "python"
    }
  },
  "cells": [
    {
      "cell_type": "markdown",
      "metadata": {
        "id": "view-in-github",
        "colab_type": "text"
      },
      "source": [
        "<a href=\"https://colab.research.google.com/github/rkdud3936/Python/blob/main/py10_function.ipynb\" target=\"_parent\"><img src=\"https://colab.research.google.com/assets/colab-badge.svg\" alt=\"Open In Colab\"/></a>"
      ]
    },
    {
      "cell_type": "markdown",
      "source": [
        "# 함수(Function)\n",
        "\n",
        "* **함수(function)**: 기능을 수행하는 코드 블록.\n",
        "* **인수(argument)**: 함수를 호출할 때, 함수에게 전달하는 값(들)\n",
        "* **매개변수(parameter)**: argument를 저장하기 위해서, 함수를 정의할 때 선언하는 (지역) 변수.\n",
        "* **반환 값(return value)**: 함수가 기능 수행의 결과로 반환하는 값.\n",
        "    * 반환 값이 있는 함수\n",
        "    * 반환 값이 없는 함수"
      ],
      "metadata": {
        "id": "PUQ2rPc4OONb"
      }
    },
    {
      "cell_type": "code",
      "source": [
        "result = len([1, 2, 3, 4, 5])\n",
        "# funcion: len\n",
        "# argument; [1, 2, 3, 4, 5]\n",
        "# 함수 호출(call, invoke): len([1, 2, 3, 4, 5])\n",
        "# return value: 5"
      ],
      "metadata": {
        "id": "V-Nfagc9QHy3"
      },
      "execution_count": null,
      "outputs": []
    },
    {
      "cell_type": "code",
      "source": [
        "result"
      ],
      "metadata": {
        "colab": {
          "base_uri": "https://localhost:8080/"
        },
        "id": "mqq0DvicQMJd",
        "outputId": "39c86ece-be35-48d9-923c-e79cf0c7028e"
      },
      "execution_count": null,
      "outputs": [
        {
          "output_type": "execute_result",
          "data": {
            "text/plain": [
              "5"
            ]
          },
          "metadata": {},
          "execution_count": 2
        }
      ]
    },
    {
      "cell_type": "markdown",
      "source": [
        "# 함수 정의(선언) 방법\n",
        "\n",
        "```\n",
        "def function_name([param1, ...]):\n",
        "    [\"\"\"문서화 주석(documentation comment): 함수에 대한 설명\"\"\"]\n",
        "    함수 기능 작성(코드)\n",
        "    [return 반환값]\n",
        "\n",
        "Java: public int functionName(int x, String s) {}\n",
        "JavaScript: function functionName(arg, arg, ...) {}\n",
        "```"
      ],
      "metadata": {
        "id": "iVTcCFVyU5bw"
      }
    },
    {
      "cell_type": "code",
      "source": [
        "def substract(x,y):\n",
        "    \"\"\"숫자 2개(x, y)를 전달 받아서, x - y를 반환하는 함수  \n",
        "    \"\"\"\n",
        "    return x - y"
      ],
      "metadata": {
        "id": "5vapXqbqQRjg"
      },
      "execution_count": null,
      "outputs": []
    },
    {
      "cell_type": "code",
      "source": [
        "result = substract(1, 2)\n",
        "result"
      ],
      "metadata": {
        "colab": {
          "base_uri": "https://localhost:8080/"
        },
        "id": "ARzWHC3FXaZL",
        "outputId": "a0d42675-1e6b-420f-fa1c-d7767f68b68e"
      },
      "execution_count": null,
      "outputs": [
        {
          "output_type": "execute_result",
          "data": {
            "text/plain": [
              "-1"
            ]
          },
          "metadata": {},
          "execution_count": 4
        }
      ]
    },
    {
      "cell_type": "markdown",
      "source": [
        "파이썬은 2개 이상의 값을 반환하는 함수를 정의할 수 있음"
      ],
      "metadata": {
        "id": "sLGQirt9YpGG"
      }
    },
    {
      "cell_type": "code",
      "source": [
        "def plus_and_minus(x, y):\n",
        "    \"\"\"2개의 숫자 x, y를 전달받아서, x+y와 x-y를 반환하는 함수.\n",
        "    \"\"\"\n",
        "    return x + y, x - y"
      ],
      "metadata": {
        "id": "W_0c_C1NYLrM"
      },
      "execution_count": null,
      "outputs": []
    },
    {
      "cell_type": "code",
      "source": [
        "result = plus_and_minus(2, 3)\n",
        "result #> tuple"
      ],
      "metadata": {
        "colab": {
          "base_uri": "https://localhost:8080/"
        },
        "id": "3JlgamFoZR0T",
        "outputId": "48282e8b-cd9a-4e75-f864-73ab2bc872f0"
      },
      "execution_count": null,
      "outputs": [
        {
          "output_type": "execute_result",
          "data": {
            "text/plain": [
              "(5, -1)"
            ]
          },
          "metadata": {},
          "execution_count": 6
        }
      ]
    },
    {
      "cell_type": "code",
      "source": [
        "# tuple decomposition(분해): x, y = (3, -1)\n",
        "plus, minus = plus_and_minus(1, 2)\n",
        "print(plus)\n",
        "print(minus)"
      ],
      "metadata": {
        "colab": {
          "base_uri": "https://localhost:8080/"
        },
        "id": "n1hmiIV1ZV4Q",
        "outputId": "0ebd03dc-d5f5-4bb5-a5e5-5e96c4cf98be"
      },
      "execution_count": null,
      "outputs": [
        {
          "output_type": "stream",
          "name": "stdout",
          "text": [
            "3\n",
            "-1\n"
          ]
        }
      ]
    },
    {
      "cell_type": "markdown",
      "source": [
        "값을 반환하지 않는 함수"
      ],
      "metadata": {
        "id": "-vCKCH0Na1nc"
      }
    },
    {
      "cell_type": "code",
      "source": [
        "def repeat_messages(message, n):\n",
        "    \"\"\"문자열 message와 양의 정수 n을 전달받아서,\n",
        "    전달받은 문자열을 n번 반복해서 출력하는 함수.\n",
        "    \"\"\"\n",
        "    for _ in range(n):\n",
        "        print(message)\n",
        "\n",
        "    \n",
        "    # return None # 반환 값이 없다는 것을 명시적으로 작성.\n",
        "    # 반환 값이 없는 경우 return None 문장을 보통 생략함.\n"
      ],
      "metadata": {
        "id": "RpSwKQHYaJBe"
      },
      "execution_count": null,
      "outputs": []
    },
    {
      "cell_type": "code",
      "source": [
        "result = repeat_messages('안녕하세요',3)"
      ],
      "metadata": {
        "colab": {
          "base_uri": "https://localhost:8080/"
        },
        "id": "ykoTdKClbp9v",
        "outputId": "8b63695d-6d3e-4436-89cf-7060c85ae7f1"
      },
      "execution_count": null,
      "outputs": [
        {
          "output_type": "stream",
          "name": "stdout",
          "text": [
            "안녕하세요\n",
            "안녕하세요\n",
            "안녕하세요\n"
          ]
        }
      ]
    },
    {
      "cell_type": "code",
      "source": [
        "print(result) #> None: 값이 없음."
      ],
      "metadata": {
        "colab": {
          "base_uri": "https://localhost:8080/"
        },
        "id": "4WG-UXaxbu8N",
        "outputId": "f3fa4e93-d293-43bc-d7ff-798a76bd71f2"
      },
      "execution_count": null,
      "outputs": [
        {
          "output_type": "stream",
          "name": "stdout",
          "text": [
            "None\n"
          ]
        }
      ]
    },
    {
      "cell_type": "markdown",
      "source": [
        "# 함수 정의/호출 연습"
      ],
      "metadata": {
        "id": "5AB5UPFMDdCP"
      }
    },
    {
      "cell_type": "code",
      "source": [
        "import random  # 난수 관련 함수들을 사용하기 위해서\n",
        "import math  # 수학 함수들을 사용하기 위해서"
      ],
      "metadata": {
        "id": "McicnZj4cGev"
      },
      "execution_count": null,
      "outputs": []
    },
    {
      "cell_type": "markdown",
      "source": [
        "## Ex 1.\n",
        "\n",
        "* 함수 이름: make_list\n",
        "* 기능: start 이상 end 미만의 정수 난수 n개를 갖는 리스트를 반환."
      ],
      "metadata": {
        "id": "6nr2xCf1Dil9"
      }
    },
    {
      "cell_type": "code",
      "source": [
        "def make_list(start, end, n):\n",
        "    # array =[] # 빈 리스트\n",
        "    # for _ in range(n): # n번 반복 \n",
        "    #     array.append(random.randrange(start, end)) # 난수를 생성해서 리스트에 추가 \n",
        "    # return array # 리스트를 리턴\n",
        "\n",
        "    return [random.randrange(start, end) for _ in range(n)]"
      ],
      "metadata": {
        "id": "d7g-9J92Dz15"
      },
      "execution_count": null,
      "outputs": []
    },
    {
      "cell_type": "code",
      "source": [
        "num_list = make_list(-10, 10, 5)\n",
        "num_list"
      ],
      "metadata": {
        "colab": {
          "base_uri": "https://localhost:8080/"
        },
        "id": "XXUAeDNpGlrv",
        "outputId": "2091b3a1-5259-4361-81ca-f77381137e92"
      },
      "execution_count": null,
      "outputs": [
        {
          "output_type": "execute_result",
          "data": {
            "text/plain": [
              "[3, -6, -4, 4, 5]"
            ]
          },
          "metadata": {},
          "execution_count": 22
        }
      ]
    },
    {
      "cell_type": "markdown",
      "source": [
        "## Ex 2.\n",
        "\n",
        "* 함수 이름: calc_sum\n",
        "* 기능: 숫자들을 저장하고 있는 리스트의 모든 원소들의 합을 반환."
      ],
      "metadata": {
        "id": "spS_OAxnDmL1"
      }
    },
    {
      "cell_type": "code",
      "source": [
        "def calc_sum(numbers):\n",
        "    # return sum(numbers)\n",
        "    total = 0 \n",
        "    for x in numbers:\n",
        "        total += x\n",
        "    return total\n",
        "    "
      ],
      "metadata": {
        "id": "qFqcFsg2G-Lu"
      },
      "execution_count": null,
      "outputs": []
    },
    {
      "cell_type": "code",
      "source": [
        "total = calc_sum(num_list)\n",
        "total"
      ],
      "metadata": {
        "id": "PYFGGoW2KLJK",
        "colab": {
          "base_uri": "https://localhost:8080/"
        },
        "outputId": "ea3e683b-9a17-4955-f47d-3d1b6203865a"
      },
      "execution_count": null,
      "outputs": [
        {
          "output_type": "execute_result",
          "data": {
            "text/plain": [
              "2"
            ]
          },
          "metadata": {},
          "execution_count": 26
        }
      ]
    },
    {
      "cell_type": "markdown",
      "source": [
        "## Ex 3.\n",
        "\n",
        "* 함수 이름: calc_mean\n",
        "* 기능: 숫자들을 저장하고 있는 리스트의 모든 원소들의 평균을 반환."
      ],
      "metadata": {
        "id": "X9S0r1hmDm6l"
      }
    },
    {
      "cell_type": "code",
      "source": [
        "def calc_mean(numbers):\n",
        "    return calc_sum(numbers) / len(numbers)\n",
        "    \n"
      ],
      "metadata": {
        "id": "RH0AVi5NlTiC"
      },
      "execution_count": null,
      "outputs": []
    },
    {
      "cell_type": "code",
      "source": [
        "mean = calc_mean(num_list)\n",
        "mean"
      ],
      "metadata": {
        "colab": {
          "base_uri": "https://localhost:8080/"
        },
        "id": "syai6ta4lpew",
        "outputId": "f5db54bd-d5d2-4803-ce5a-c97d36b480e9"
      },
      "execution_count": null,
      "outputs": [
        {
          "output_type": "execute_result",
          "data": {
            "text/plain": [
              "0.4"
            ]
          },
          "metadata": {},
          "execution_count": 28
        }
      ]
    },
    {
      "cell_type": "markdown",
      "source": [
        "## Ex 4.\n",
        "\n",
        "* 함수 이름: calc_variance\n",
        "* 기능: 숫자들을 저장하고 있는 리스트의 원소들의 분산을 반환."
      ],
      "metadata": {
        "id": "ohDNf-PaDnQs"
      }
    },
    {
      "cell_type": "code",
      "source": [
        "def calc_varience(numbers):\n",
        "    mean = calc_mean(numbers) # 평균\n",
        "    squares = [(x - mean) ** 2 for x in numbers]\n",
        "    var = calc_sum(squares) / (len(numbers) - 1)\n",
        "    return var           \n"
      ],
      "metadata": {
        "id": "8XjewL6Ml8UU"
      },
      "execution_count": null,
      "outputs": []
    },
    {
      "cell_type": "code",
      "source": [
        "var = calc_varience(num_list)\n",
        "var"
      ],
      "metadata": {
        "colab": {
          "base_uri": "https://localhost:8080/"
        },
        "id": "Bn_anNPrn3Wu",
        "outputId": "e3dfb6b9-cb1e-44e4-bdb2-4d917fbd90e9"
      },
      "execution_count": null,
      "outputs": [
        {
          "output_type": "execute_result",
          "data": {
            "text/plain": [
              "25.300000000000004"
            ]
          },
          "metadata": {},
          "execution_count": 33
        }
      ]
    },
    {
      "cell_type": "markdown",
      "source": [
        "## Ex 5.\n",
        "\n",
        "* 함수 이름: calc_stddev\n",
        "* 기능: 숫자들을 저장하고 있는 리스트의 원소들의 표준편차를 반환."
      ],
      "metadata": {
        "id": "RMlzJLadDnlc"
      }
    },
    {
      "cell_type": "code",
      "source": [
        "def calc_stddev(numbers):\n",
        "    return math.sqrt(calc_varience(numbers))"
      ],
      "metadata": {
        "id": "m5TwHlc8pujq"
      },
      "execution_count": null,
      "outputs": []
    },
    {
      "cell_type": "code",
      "source": [
        "stddev = calc_stddev(num_list)\n",
        "stddev"
      ],
      "metadata": {
        "colab": {
          "base_uri": "https://localhost:8080/"
        },
        "id": "ZjjV3a9SqRA1",
        "outputId": "6f5dc7ab-b6d5-4eb8-9877-a881cae999db"
      },
      "execution_count": null,
      "outputs": [
        {
          "output_type": "execute_result",
          "data": {
            "text/plain": [
              "5.029910535983717"
            ]
          },
          "metadata": {},
          "execution_count": 36
        }
      ]
    },
    {
      "cell_type": "markdown",
      "source": [
        "## Ex 6.\n",
        "\n",
        "* 함수 이름: find_max_and_min\n",
        "* 기능: 숫자들을 저장하고 있는 리스트에서 최댓값과 최솟값을 반환."
      ],
      "metadata": {
        "id": "-c8SRPuyDn2F"
      }
    },
    {
      "cell_type": "code",
      "source": [
        "def find_max_and_min(numbers):\n",
        "  #  return max(numbers), min(numbers)\n",
        "  max_numbers = numbers[0]\n",
        "  min_numbers = numbers[0]\n",
        "  for x in numbers:\n",
        "      if x > max_numbers:\n",
        "         max_numbers = x\n",
        "      if x < min_numbers:\n",
        "         min_numbers = x\n",
        "  return max_numbers, min_numbers          "
      ],
      "metadata": {
        "id": "ODmJwlw3DgF4"
      },
      "execution_count": null,
      "outputs": []
    },
    {
      "cell_type": "code",
      "source": [
        "num_list"
      ],
      "metadata": {
        "colab": {
          "base_uri": "https://localhost:8080/"
        },
        "id": "4GfUkq5Kqvwk",
        "outputId": "aceff7f9-b7b1-4fc2-e639-235e723a8374"
      },
      "execution_count": null,
      "outputs": [
        {
          "output_type": "execute_result",
          "data": {
            "text/plain": [
              "[3, -6, -4, 4, 5]"
            ]
          },
          "metadata": {},
          "execution_count": 41
        }
      ]
    },
    {
      "cell_type": "code",
      "source": [
        "find_max_and_min(num_list)"
      ],
      "metadata": {
        "colab": {
          "base_uri": "https://localhost:8080/"
        },
        "id": "BS2eAEYvqxar",
        "outputId": "3a989d86-e440-4701-dcfc-1391f0201e56"
      },
      "execution_count": null,
      "outputs": [
        {
          "output_type": "execute_result",
          "data": {
            "text/plain": [
              "(5, -6)"
            ]
          },
          "metadata": {},
          "execution_count": 39
        }
      ]
    },
    {
      "cell_type": "markdown",
      "source": [
        "# Default argument(기본 인수)\n",
        "\n",
        "* 함수를 정의할 때 파라미터(parameter)에 설정된 기본값.\n",
        "* 함수를 호출할 때 default argument를 갖는 파라미터에 값을 전달하지 않으면, default argument가 함수 내부에서 사용됨.\n",
        "* 함수를 호출할 때 default argument를 갖는 파라미터에 값을 전달하면, default argument는 무시되고 전달된 값이 함수 내부에서 사용됨.\n",
        "* **(주의)** 함수를 정의할 때, default parameter들은 반드시 default 값을 갖지 않는 파라미터들 뒤에 선언해야 함!"
      ],
      "metadata": {
        "id": "Z_3ygcZFIK_Z"
      }
    },
    {
      "cell_type": "code",
      "source": [
        "def repeat_messages(message, n=1):\n",
        "    for _ in range(n):\n",
        "        print(message)"
      ],
      "metadata": {
        "id": "rza0w7_Lq218"
      },
      "execution_count": null,
      "outputs": []
    },
    {
      "cell_type": "code",
      "source": [
        "repeat_messages('안녕하세요')\n",
        "# 파라미터 n에 값을 전달하지 않은 경우, n은 기본값 1을 갖게 됨."
      ],
      "metadata": {
        "colab": {
          "base_uri": "https://localhost:8080/"
        },
        "id": "aYUpeKWDMvyg",
        "outputId": "e122e957-3fd7-49f6-c5b2-29535a77ad64"
      },
      "execution_count": null,
      "outputs": [
        {
          "output_type": "stream",
          "name": "stdout",
          "text": [
            "안녕하세요\n"
          ]
        }
      ]
    },
    {
      "cell_type": "code",
      "source": [
        "repeat_messages('안녕하세요', 3)"
      ],
      "metadata": {
        "colab": {
          "base_uri": "https://localhost:8080/"
        },
        "id": "j0M0tVCTMx_6",
        "outputId": "76b52339-5f46-44a7-b282-0ae23599bb78"
      },
      "execution_count": null,
      "outputs": [
        {
          "output_type": "stream",
          "name": "stdout",
          "text": [
            "안녕하세요\n",
            "안녕하세요\n",
            "안녕하세요\n"
          ]
        }
      ]
    },
    {
      "cell_type": "markdown",
      "source": [
        "# argument 전달 방법:\n",
        "\n",
        "함수를 호출할 때, 함수에 값(argument)를 전달하는 방법:\n",
        "*   **positional argument**: 함수를 정의할 때 선언된 파라미터 순서대로 값을 전달하는 방식.\n",
        "*   **keyword argument**: `param_name=value`과 같은 형식으로 값을 전달하는 방식.\n",
        "    * keyword argument 방식으로 값을 전달할 때는 함수 정의의 파라미터 순서를 지키지 않아도 됨.\n",
        "*   **(주의)** 함수를 호출할 때 positional 방식과 keyword 방식을 함께 사용하는 경우에는 반드시 positional arguement가 먼저, keyword argument가 나중에 와야 함!\n"
      ],
      "metadata": {
        "id": "GzQi_jOXNIzp"
      }
    },
    {
      "cell_type": "code",
      "source": [
        "def minus(x, y):\n",
        "    return x - y"
      ],
      "metadata": {
        "id": "EFfz2YyNM0Or"
      },
      "execution_count": null,
      "outputs": []
    },
    {
      "cell_type": "code",
      "source": [
        "# positional argument 방식의 함수 호출\n",
        "minus(1, 2)"
      ],
      "metadata": {
        "colab": {
          "base_uri": "https://localhost:8080/"
        },
        "id": "lHabY_eZNaWD",
        "outputId": "87c7971b-613d-45a4-8dca-ae42888ff201"
      },
      "execution_count": null,
      "outputs": [
        {
          "output_type": "execute_result",
          "data": {
            "text/plain": [
              "-1"
            ]
          },
          "metadata": {},
          "execution_count": 5
        }
      ]
    },
    {
      "cell_type": "code",
      "source": [
        "# keyword argument 방식의 함수 호출\n",
        "minus(x=1, y=2)"
      ],
      "metadata": {
        "colab": {
          "base_uri": "https://localhost:8080/"
        },
        "id": "TO9hf7FxNim5",
        "outputId": "d8e5aa50-585e-456f-e15e-9e2a8906abd7"
      },
      "execution_count": null,
      "outputs": [
        {
          "output_type": "execute_result",
          "data": {
            "text/plain": [
              "-1"
            ]
          },
          "metadata": {},
          "execution_count": 6
        }
      ]
    },
    {
      "cell_type": "code",
      "source": [
        "# keyword argument 방식의 함수 호출에서는 파라미터의 순서를 지키지 않아도 됨.\n",
        "minus(y=1, x=2)"
      ],
      "metadata": {
        "colab": {
          "base_uri": "https://localhost:8080/"
        },
        "id": "GK_cxEXWNkuh",
        "outputId": "acf9247e-8357-45b6-8217-d5baad0c2103"
      },
      "execution_count": null,
      "outputs": [
        {
          "output_type": "execute_result",
          "data": {
            "text/plain": [
              "1"
            ]
          },
          "metadata": {},
          "execution_count": 7
        }
      ]
    },
    {
      "cell_type": "code",
      "source": [
        "minus(1, y=2)\n",
        "# positional argument를 먼저, keyword argument를 나중에 전달하는 것은 가능."
      ],
      "metadata": {
        "colab": {
          "base_uri": "https://localhost:8080/"
        },
        "id": "W4ASpAKKNmaR",
        "outputId": "c4b5dfe3-65aa-4f26-f8b9-7a7f4df5cebf"
      },
      "execution_count": null,
      "outputs": [
        {
          "output_type": "execute_result",
          "data": {
            "text/plain": [
              "-1"
            ]
          },
          "metadata": {},
          "execution_count": 8
        }
      ]
    },
    {
      "cell_type": "code",
      "source": [
        "# minus(x=1, 2)\n",
        "#> positional argument가 keyword argument보다 나중에 나오면 안됨!"
      ],
      "metadata": {
        "id": "0OtPqOiXNoE8"
      },
      "execution_count": null,
      "outputs": []
    },
    {
      "cell_type": "markdown",
      "source": [
        "# 가변길이 인수(variable-length arguments)"
      ],
      "metadata": {
        "id": "brSAz1doNspT"
      }
    },
    {
      "cell_type": "code",
      "source": [
        "print('hello')  # argument 1개"
      ],
      "metadata": {
        "colab": {
          "base_uri": "https://localhost:8080/"
        },
        "id": "9PgUbAe4Nrmk",
        "outputId": "33155b97-1377-4cc3-ba06-72a57c6db412"
      },
      "execution_count": null,
      "outputs": [
        {
          "output_type": "stream",
          "name": "stdout",
          "text": [
            "hello\n"
          ]
        }
      ]
    },
    {
      "cell_type": "code",
      "source": [
        "print('hello', 'python')  # argument 2개"
      ],
      "metadata": {
        "colab": {
          "base_uri": "https://localhost:8080/"
        },
        "id": "bsuPJaBTN1DY",
        "outputId": "40112179-bcbe-4439-a05c-08335bd60032"
      },
      "execution_count": null,
      "outputs": [
        {
          "output_type": "stream",
          "name": "stdout",
          "text": [
            "hello python\n"
          ]
        }
      ]
    },
    {
      "cell_type": "code",
      "source": [
        "max([1, 2, 3])  # argument 1개"
      ],
      "metadata": {
        "colab": {
          "base_uri": "https://localhost:8080/"
        },
        "id": "tae_2ubmN5nE",
        "outputId": "10685008-8f8d-47a7-8230-b5f1fecce736"
      },
      "execution_count": null,
      "outputs": [
        {
          "output_type": "execute_result",
          "data": {
            "text/plain": [
              "3"
            ]
          },
          "metadata": {},
          "execution_count": 12
        }
      ]
    },
    {
      "cell_type": "code",
      "source": [
        "max(1, 2, 3, 10, 5, 7)  # argument 6개"
      ],
      "metadata": {
        "colab": {
          "base_uri": "https://localhost:8080/"
        },
        "id": "BgAdWPR_N-sG",
        "outputId": "9cd419da-64ec-43d7-c6ae-60b69c2c3702"
      },
      "execution_count": null,
      "outputs": [
        {
          "output_type": "execute_result",
          "data": {
            "text/plain": [
              "10"
            ]
          },
          "metadata": {},
          "execution_count": 13
        }
      ]
    },
    {
      "cell_type": "markdown",
      "source": [
        "**가변길이 인수(variable-length argument)**\n",
        "\n",
        "* 함수를 호출할 때 전달하는 값(argument)의 개수가 임의로 변할 수 있는 것.\n",
        "    * argument 개수의 제한이 없다.\n",
        "    * argument를 전달하지 않아도 됨.\n",
        "* 함수를 정의할 때, 파라미터 이름 앞에 `*`를 사용하면 가변길이 인수를 전달받는 파라미터가 됨.\n",
        "* 함수 내부에서 가변길이 인수는 tuple로 취급.\n",
        "    * 가변길이 인수는 인덱스를 사용할 수 있음.\n",
        "    * 가변길이 인수는 for-in 구문에서 사용할 수 있음.\n",
        "* **(주의)**\n",
        "    * 가변길이 인수는 keyword argument 방식으로 전달할 수 없음.\n",
        "    * 함수를 선언할 때, 가변길이 인수를 갖는 파라미터는 **하나**만 선언할 수 있음."
      ],
      "metadata": {
        "id": "BTX6s6YCOC3p"
      }
    },
    {
      "cell_type": "code",
      "source": [
        "def add_all(*values):\n",
        "    total = 0\n",
        "    for x in values:\n",
        "        total += x\n",
        "    return total"
      ],
      "metadata": {
        "id": "6yLLzu4SOAqB"
      },
      "execution_count": null,
      "outputs": []
    },
    {
      "cell_type": "code",
      "source": [
        "add_all(1)"
      ],
      "metadata": {
        "colab": {
          "base_uri": "https://localhost:8080/"
        },
        "id": "9rkD5JZPQEVZ",
        "outputId": "4d69b8b8-171f-4abd-bf1f-b8750bd07be3"
      },
      "execution_count": null,
      "outputs": [
        {
          "output_type": "execute_result",
          "data": {
            "text/plain": [
              "1"
            ]
          },
          "metadata": {},
          "execution_count": 15
        }
      ]
    },
    {
      "cell_type": "code",
      "source": [
        "add_all(1, 2, 3)"
      ],
      "metadata": {
        "colab": {
          "base_uri": "https://localhost:8080/"
        },
        "id": "lCSjWEQfQF8b",
        "outputId": "9f2949e4-9b8d-448d-d081-d19affab4016"
      },
      "execution_count": null,
      "outputs": [
        {
          "output_type": "execute_result",
          "data": {
            "text/plain": [
              "6"
            ]
          },
          "metadata": {},
          "execution_count": 16
        }
      ]
    },
    {
      "cell_type": "code",
      "source": [
        "add_all()"
      ],
      "metadata": {
        "colab": {
          "base_uri": "https://localhost:8080/"
        },
        "id": "x9FA0__YQHsS",
        "outputId": "610f5b1f-7de1-4840-be16-0818957d6f91"
      },
      "execution_count": null,
      "outputs": [
        {
          "output_type": "execute_result",
          "data": {
            "text/plain": [
              "0"
            ]
          },
          "metadata": {},
          "execution_count": 17
        }
      ]
    },
    {
      "cell_type": "code",
      "source": [
        "def test1(a, *b):\n",
        "    print('a = ', a)\n",
        "    print('b = ', b)"
      ],
      "metadata": {
        "id": "Iz2Lq88qQJZH"
      },
      "execution_count": null,
      "outputs": []
    },
    {
      "cell_type": "code",
      "source": [
        "test1(1, 2)"
      ],
      "metadata": {
        "colab": {
          "base_uri": "https://localhost:8080/"
        },
        "id": "R0KdTg75QK-7",
        "outputId": "fc3ead16-f19d-43e7-e1db-3d26be2472f4"
      },
      "execution_count": null,
      "outputs": [
        {
          "output_type": "stream",
          "name": "stdout",
          "text": [
            "a =  1\n",
            "b =  (2,)\n"
          ]
        }
      ]
    },
    {
      "cell_type": "code",
      "source": [
        "test1(1, 2, 3)"
      ],
      "metadata": {
        "colab": {
          "base_uri": "https://localhost:8080/"
        },
        "id": "IVE7Cg13QMTM",
        "outputId": "edaadea2-7311-478c-fbbd-122ff2d3c355"
      },
      "execution_count": null,
      "outputs": [
        {
          "output_type": "stream",
          "name": "stdout",
          "text": [
            "a =  1\n",
            "b =  (2, 3)\n"
          ]
        }
      ]
    },
    {
      "cell_type": "markdown",
      "source": [
        "`test1()` 함수는 positional argument 방식으로만 값을 전달할 수 있는 함수."
      ],
      "metadata": {
        "id": "5zEX3-OuQQG8"
      }
    },
    {
      "cell_type": "code",
      "source": [
        "def test2(*a, b):\n",
        "    print('a = ', a)\n",
        "    print('b = ', b)"
      ],
      "metadata": {
        "id": "sAboULyiQN4R"
      },
      "execution_count": null,
      "outputs": []
    },
    {
      "cell_type": "code",
      "source": [
        "test2(1, 2, b=3)"
      ],
      "metadata": {
        "colab": {
          "base_uri": "https://localhost:8080/"
        },
        "id": "lb4S-pg0QSRm",
        "outputId": "a7495fda-59ef-4326-b981-49a7f98ab1fa"
      },
      "execution_count": null,
      "outputs": [
        {
          "output_type": "stream",
          "name": "stdout",
          "text": [
            "a =  (1, 2)\n",
            "b =  3\n"
          ]
        }
      ]
    },
    {
      "cell_type": "markdown",
      "source": [
        "`test2()` 함수에서 파라미터 b는 반드시 keyword argument 방식으로만 값을 전달할 수 있음."
      ],
      "metadata": {
        "id": "mM2RIUXhQWL8"
      }
    },
    {
      "cell_type": "code",
      "source": [
        "def test3(*a, b=0):\n",
        "    print('a = ', a)\n",
        "    print('b = ', b)"
      ],
      "metadata": {
        "id": "JnqIrjbYQUPm"
      },
      "execution_count": null,
      "outputs": []
    },
    {
      "cell_type": "code",
      "source": [
        "test3(1)"
      ],
      "metadata": {
        "colab": {
          "base_uri": "https://localhost:8080/"
        },
        "id": "7SPIKSfGQamQ",
        "outputId": "3c2e2a11-342e-47e0-e39b-84f2fca01d53"
      },
      "execution_count": null,
      "outputs": [
        {
          "output_type": "stream",
          "name": "stdout",
          "text": [
            "a =  (1,)\n",
            "b =  0\n"
          ]
        }
      ]
    },
    {
      "cell_type": "code",
      "source": [
        "test3(1, 2, 3)"
      ],
      "metadata": {
        "colab": {
          "base_uri": "https://localhost:8080/"
        },
        "id": "jYlQ1nVWQc2L",
        "outputId": "04ff4779-1142-4542-8a28-fe0314db36b8"
      },
      "execution_count": null,
      "outputs": [
        {
          "output_type": "stream",
          "name": "stdout",
          "text": [
            "a =  (1, 2, 3)\n",
            "b =  0\n"
          ]
        }
      ]
    },
    {
      "cell_type": "code",
      "source": [
        "test3(1, 2, 3, b=100)"
      ],
      "metadata": {
        "colab": {
          "base_uri": "https://localhost:8080/"
        },
        "id": "Fccq1dagQfYk",
        "outputId": "7586ebd8-0af8-4a64-fa84-9c964d13d68a"
      },
      "execution_count": null,
      "outputs": [
        {
          "output_type": "stream",
          "name": "stdout",
          "text": [
            "a =  (1, 2, 3)\n",
            "b =  100\n"
          ]
        }
      ]
    },
    {
      "cell_type": "code",
      "source": [
        "def calculate(*values, op):\n",
        "    \"\"\"\n",
        "    values: 임의의 개수의 숫자들.\n",
        "    op: 문자열. ('+', 또는 '*')\n",
        "    op가 '+'인 경우에는 모든 값들의 합을 리턴. values에 전달된 값이 없으면 0을 리턴.\n",
        "    op가 '*'인 경우에는 모든 값들의 곱을 리턴. values에 전달된 값이 없으면 1을 리턴.\n",
        "    \"\"\"\n",
        "    if op == '+':\n",
        "        result = 0\n",
        "        for x in values:\n",
        "            result += x\n",
        "    elif op == '*':\n",
        "        result = 1\n",
        "        for x in values:\n",
        "            result *= x\n",
        "    else:\n",
        "        result = None\n",
        "    \n",
        "    return result"
      ],
      "metadata": {
        "id": "XYYz9Ce-Qh77"
      },
      "execution_count": null,
      "outputs": []
    },
    {
      "cell_type": "code",
      "source": [
        "calculate(1, 2, 3, 4, 5, op='+')"
      ],
      "metadata": {
        "colab": {
          "base_uri": "https://localhost:8080/"
        },
        "id": "ctby2FEtQkOU",
        "outputId": "e6d26a43-951d-4e07-8e81-f0792cbbdddf"
      },
      "execution_count": null,
      "outputs": [
        {
          "output_type": "execute_result",
          "data": {
            "text/plain": [
              "15"
            ]
          },
          "metadata": {},
          "execution_count": 28
        }
      ]
    },
    {
      "cell_type": "code",
      "source": [
        "calculate(1, 2, 3, 4, 5, op='*')"
      ],
      "metadata": {
        "colab": {
          "base_uri": "https://localhost:8080/"
        },
        "id": "JYKBr94uQmDB",
        "outputId": "8ad94e4b-e234-4a53-a9fa-48e42f4cf61c"
      },
      "execution_count": null,
      "outputs": [
        {
          "output_type": "execute_result",
          "data": {
            "text/plain": [
              "120"
            ]
          },
          "metadata": {},
          "execution_count": 29
        }
      ]
    },
    {
      "cell_type": "code",
      "source": [
        "calculate(op='+')"
      ],
      "metadata": {
        "colab": {
          "base_uri": "https://localhost:8080/"
        },
        "id": "y5xJCuD8Qq6G",
        "outputId": "4d40b099-b460-48f1-9891-8ddd621f27d6"
      },
      "execution_count": null,
      "outputs": [
        {
          "output_type": "execute_result",
          "data": {
            "text/plain": [
              "0"
            ]
          },
          "metadata": {},
          "execution_count": 30
        }
      ]
    },
    {
      "cell_type": "code",
      "source": [
        "calculate(op='*')"
      ],
      "metadata": {
        "colab": {
          "base_uri": "https://localhost:8080/"
        },
        "id": "4x3n0s1EQrXN",
        "outputId": "a7ff8952-e30a-4bb7-80b0-739da6b99dea"
      },
      "execution_count": null,
      "outputs": [
        {
          "output_type": "execute_result",
          "data": {
            "text/plain": [
              "1"
            ]
          },
          "metadata": {},
          "execution_count": 31
        }
      ]
    },
    {
      "cell_type": "markdown",
      "source": [
        "# 가변길이 키워드 인수(variable-length keyword argument)\n",
        "\n",
        "* variable-length + keyword\n",
        "    * variable-length argument: 함수를 호출할 때, 임의의 개수의 argument를 전달할 수 있음.\n",
        "    * keyword argument: 함수를 호출할 때 반드시 `param_name=value` 형식으로 값을 전달.\n",
        "* 함수를 정의할 때, 파라미터 이름 앞에 `**`를 사용.\n",
        "* 함수를 호출할 때, 임의의 개수의 keyword argument를 전달하면 됨. \n",
        "    * 파라미터 이름 제한 없음.\n",
        "    * 값의 개수 제한 없음.\n",
        "* 함수 내부에서 가변길이 키워드 인수는 dict로 취급됨.\n",
        "    * 함수 호출할 때 사용한 파라미터 이름이 dict의 키(key)가 됨.\n",
        "    * 함수 호출할 때 파라미터에 전달한 값(argument)이 dict의 값(value)가 됨.\n",
        "* 가변길이 키워드 인수는 함수 정의에서 오직 한번만 가능."
      ],
      "metadata": {
        "id": "DsCMAZbYQ1hV"
      }
    },
    {
      "cell_type": "code",
      "source": [
        "def test4(**kwargs):\n",
        "    print(kwargs)"
      ],
      "metadata": {
        "id": "IfHu4DeBQzbM"
      },
      "execution_count": null,
      "outputs": []
    },
    {
      "cell_type": "code",
      "source": [
        "test4()"
      ],
      "metadata": {
        "colab": {
          "base_uri": "https://localhost:8080/"
        },
        "id": "8jQESqw_Q4kW",
        "outputId": "2ba317dc-36f6-4fd2-8081-bb9782781fbf"
      },
      "execution_count": null,
      "outputs": [
        {
          "output_type": "stream",
          "name": "stdout",
          "text": [
            "{}\n"
          ]
        }
      ]
    },
    {
      "cell_type": "code",
      "source": [
        "test4(a=1)"
      ],
      "metadata": {
        "colab": {
          "base_uri": "https://localhost:8080/"
        },
        "id": "yKu6Zy33Q61n",
        "outputId": "d3316a0f-429c-4dc7-8abe-9de518d065f7"
      },
      "execution_count": null,
      "outputs": [
        {
          "output_type": "stream",
          "name": "stdout",
          "text": [
            "{'a': 1}\n"
          ]
        }
      ]
    },
    {
      "cell_type": "code",
      "source": [
        "test4(a=1, b='hello')"
      ],
      "metadata": {
        "colab": {
          "base_uri": "https://localhost:8080/"
        },
        "id": "p15fnhaXQ-tp",
        "outputId": "dcc2a3a1-6edc-4096-9022-9bf8c162d4d2"
      },
      "execution_count": null,
      "outputs": [
        {
          "output_type": "stream",
          "name": "stdout",
          "text": [
            "{'a': 1, 'b': 'hello'}\n"
          ]
        }
      ]
    },
    {
      "cell_type": "code",
      "source": [
        "def test5(*args, **kwargs):\n",
        "    print('args =', args)      # args: 가변길이 인수 -> tuple\n",
        "    print('kwargs =', kwargs)  # kwargs: 가변길이 키워드 인수 -> dict"
      ],
      "metadata": {
        "id": "C80Fty8zREG0"
      },
      "execution_count": null,
      "outputs": []
    },
    {
      "cell_type": "code",
      "source": [
        "test5(1, 2, 'a', 'b')"
      ],
      "metadata": {
        "colab": {
          "base_uri": "https://localhost:8080/"
        },
        "id": "5b3dJ58GRIb1",
        "outputId": "ba1c0d50-922e-4c7b-989b-7a8f6ccfc838"
      },
      "execution_count": null,
      "outputs": [
        {
          "output_type": "stream",
          "name": "stdout",
          "text": [
            "args = (1, 2, 'a', 'b')\n",
            "kwargs = {}\n"
          ]
        }
      ]
    },
    {
      "cell_type": "code",
      "source": [
        "test5(1, 2, a=100, b=200)"
      ],
      "metadata": {
        "colab": {
          "base_uri": "https://localhost:8080/"
        },
        "id": "jK3mw4x5RJ9d",
        "outputId": "19f3598b-48d5-4276-d082-0af2a203fbb6"
      },
      "execution_count": null,
      "outputs": [
        {
          "output_type": "stream",
          "name": "stdout",
          "text": [
            "args = (1, 2)\n",
            "kwargs = {'a': 100, 'b': 200}\n"
          ]
        }
      ]
    },
    {
      "cell_type": "code",
      "source": [
        "def make_employee(emp_no, emp_name, **kwargs):\n",
        "    emp = {'emp_no': emp_no, 'emp_name': emp_name}\n",
        "    for k, v in kwargs.items():\n",
        "        # kwargs의 키(파라미터 이름)이 email 또는 phone인 경우에만 dict에 추가.\n",
        "        # 그 이외의 파라미터들은 모두 무시.\n",
        "        if k == 'email' or k == 'phone':\n",
        "            emp[k] = v\n",
        "    return emp"
      ],
      "metadata": {
        "id": "yvxiwp9URMYr"
      },
      "execution_count": null,
      "outputs": []
    },
    {
      "cell_type": "code",
      "source": [
        "make_employee(101, 'Scott', tel='010-1111-2222')"
      ],
      "metadata": {
        "colab": {
          "base_uri": "https://localhost:8080/"
        },
        "id": "FyglHARXROF-",
        "outputId": "7b4483d6-73b2-4080-f9b9-b99fe199dfdc"
      },
      "execution_count": null,
      "outputs": [
        {
          "output_type": "execute_result",
          "data": {
            "text/plain": [
              "{'emp_name': 'Scott', 'emp_no': 101}"
            ]
          },
          "metadata": {},
          "execution_count": 41
        }
      ]
    },
    {
      "cell_type": "code",
      "source": [
        "make_employee(101, 'Scott', phone='010-1111-2222')"
      ],
      "metadata": {
        "colab": {
          "base_uri": "https://localhost:8080/"
        },
        "id": "XFmeoNPQRPwz",
        "outputId": "71f35d3c-e77f-45ec-c1a0-aeca17dcb025"
      },
      "execution_count": null,
      "outputs": [
        {
          "output_type": "execute_result",
          "data": {
            "text/plain": [
              "{'emp_name': 'Scott', 'emp_no': 101, 'phone': '010-1111-2222'}"
            ]
          },
          "metadata": {},
          "execution_count": 42
        }
      ]
    },
    {
      "cell_type": "markdown",
      "source": [
        "# 재귀 함수(recursive function)\n",
        "\n",
        "함수 내부에서 자기 자신을 다시 호출하는 함수"
      ],
      "metadata": {
        "id": "dEPQnipWRTto"
      }
    },
    {
      "cell_type": "code",
      "source": [
        "def factorial(n):\n",
        "    \"\"\"\n",
        "    0! = 1 (정의)\n",
        "    1! = 1 = 0! x 1\n",
        "    2! = 1 x 2 = 2 = 1! x 2\n",
        "    3! = 1 x 2 x 3 = 6 = 2! x 3\n",
        "    ...\n",
        "    n! = 1 x 2 x ... x (n-1) x n = (n-1)! x n, n >= 1\n",
        "    \"\"\"\n",
        "    result = None\n",
        "    if n == 0:\n",
        "        result = 1\n",
        "    elif n > 0:\n",
        "        result = factorial(n - 1) * n\n",
        "    return result"
      ],
      "metadata": {
        "id": "GCGGiujcRRuD"
      },
      "execution_count": null,
      "outputs": []
    },
    {
      "cell_type": "code",
      "source": [
        "for n in range(6):\n",
        "    print(factorial(n)) "
      ],
      "metadata": {
        "colab": {
          "base_uri": "https://localhost:8080/"
        },
        "id": "wb49N-nlRWDj",
        "outputId": "40961139-dd18-4c7b-8e37-43da642184bf"
      },
      "execution_count": null,
      "outputs": [
        {
          "output_type": "stream",
          "name": "stdout",
          "text": [
            "1\n",
            "1\n",
            "2\n",
            "6\n",
            "24\n",
            "120\n"
          ]
        }
      ]
    }
  ]
}