{
  "nbformat": 4,
  "nbformat_minor": 0,
  "metadata": {
    "colab": {
      "name": "py14_string.ipynb",
      "provenance": [],
      "collapsed_sections": [],
      "include_colab_link": true
    },
    "kernelspec": {
      "name": "python3",
      "display_name": "Python 3"
    },
    "language_info": {
      "name": "python"
    }
  },
  "cells": [
    {
      "cell_type": "markdown",
      "metadata": {
        "id": "view-in-github",
        "colab_type": "text"
      },
      "source": [
        "<a href=\"https://colab.research.google.com/github/rkdud3936/Python/blob/main/py14_string.ipynb\" target=\"_parent\"><img src=\"https://colab.research.google.com/assets/colab-badge.svg\" alt=\"Open In Colab\"/></a>"
      ]
    },
    {
      "cell_type": "markdown",
      "source": [
        "# str 클래스의 메서드\n",
        "\n",
        "* str 클래스의 메서드들은 원본 문자열을 변경하지 않음!\n",
        "* 원본 문자열을 변환한 __새로운__ 문자열을 반환함."
      ],
      "metadata": {
        "id": "m4m5q4fTP4F9"
      }
    },
    {
      "cell_type": "code",
      "execution_count": null,
      "metadata": {
        "id": "-20-lJF-PvY3"
      },
      "outputs": [],
      "source": [
        "s = 'heLLo, pyTHon! 안녕하세요. 12345'  # str 클래스의 인스턴스 생성"
      ]
    },
    {
      "cell_type": "code",
      "source": [
        "s"
      ],
      "metadata": {
        "colab": {
          "base_uri": "https://localhost:8080/",
          "height": 35
        },
        "id": "08AoggTtQW8t",
        "outputId": "2e403144-6d9a-47b5-bd84-613ed0da7430"
      },
      "execution_count": null,
      "outputs": [
        {
          "output_type": "execute_result",
          "data": {
            "text/plain": [
              "'heLLo, pyTHon! 안녕하세요. 12345'"
            ],
            "application/vnd.google.colaboratory.intrinsic+json": {
              "type": "string"
            }
          },
          "metadata": {},
          "execution_count": 2
        }
      ]
    },
    {
      "cell_type": "code",
      "source": [
        "s.lower()  # 소문자로 변환된 \"새로운\" 문자열을 리턴."
      ],
      "metadata": {
        "colab": {
          "base_uri": "https://localhost:8080/",
          "height": 35
        },
        "id": "5UtML6NoQXdt",
        "outputId": "eb757bec-19e9-4b67-9320-0b6cfbb29f9f"
      },
      "execution_count": null,
      "outputs": [
        {
          "output_type": "execute_result",
          "data": {
            "text/plain": [
              "'hello, python! 안녕하세요. 12345'"
            ],
            "application/vnd.google.colaboratory.intrinsic+json": {
              "type": "string"
            }
          },
          "metadata": {},
          "execution_count": 3
        }
      ]
    },
    {
      "cell_type": "code",
      "source": [
        "s  # 원본 문자열 s는 변경되지 않음!"
      ],
      "metadata": {
        "colab": {
          "base_uri": "https://localhost:8080/",
          "height": 35
        },
        "id": "Zid7lKgCQjpM",
        "outputId": "5797c356-e4b2-4622-e912-a9c4bbaf6d85"
      },
      "execution_count": null,
      "outputs": [
        {
          "output_type": "execute_result",
          "data": {
            "text/plain": [
              "'heLLo, pyTHon! 안녕하세요. 12345'"
            ],
            "application/vnd.google.colaboratory.intrinsic+json": {
              "type": "string"
            }
          },
          "metadata": {},
          "execution_count": 4
        }
      ]
    },
    {
      "cell_type": "code",
      "source": [
        "s.upper()  # 대문자로 변환된 문자열을 리턴."
      ],
      "metadata": {
        "colab": {
          "base_uri": "https://localhost:8080/",
          "height": 35
        },
        "id": "sDt8ZYSEQzwV",
        "outputId": "9a9afe3d-646a-4234-e087-549a28ed4529"
      },
      "execution_count": null,
      "outputs": [
        {
          "output_type": "execute_result",
          "data": {
            "text/plain": [
              "'HELLO, PYTHON! 안녕하세요. 12345'"
            ],
            "application/vnd.google.colaboratory.intrinsic+json": {
              "type": "string"
            }
          },
          "metadata": {},
          "execution_count": 5
        }
      ]
    },
    {
      "cell_type": "code",
      "source": [
        "s.capitalize()  # 문자열의 첫글자만 대문자, 나머지는 소문자로 변환한 문자열을 리턴."
      ],
      "metadata": {
        "colab": {
          "base_uri": "https://localhost:8080/",
          "height": 35
        },
        "id": "upXijiw-Re2O",
        "outputId": "dfcd9f52-873b-410e-9ac9-234983187bb9"
      },
      "execution_count": null,
      "outputs": [
        {
          "output_type": "execute_result",
          "data": {
            "text/plain": [
              "'Hello, python! 안녕하세요. 12345'"
            ],
            "application/vnd.google.colaboratory.intrinsic+json": {
              "type": "string"
            }
          },
          "metadata": {},
          "execution_count": 6
        }
      ]
    },
    {
      "cell_type": "code",
      "source": [
        "s.count('L')  # 문자열에서 substring이 등장하는 회수를 리턴."
      ],
      "metadata": {
        "colab": {
          "base_uri": "https://localhost:8080/"
        },
        "id": "aPWagA45SZqm",
        "outputId": "2a04ad79-64c2-41fb-ca91-5e29fc2a12f7"
      },
      "execution_count": null,
      "outputs": [
        {
          "output_type": "execute_result",
          "data": {
            "text/plain": [
              "2"
            ]
          },
          "metadata": {},
          "execution_count": 7
        }
      ]
    },
    {
      "cell_type": "code",
      "source": [
        "url = 'https://www.python.org/'\n",
        "url.startswith('http')"
      ],
      "metadata": {
        "colab": {
          "base_uri": "https://localhost:8080/"
        },
        "id": "17xZOm7MTrqN",
        "outputId": "d98caa53-e625-471f-da84-143d9553cc20"
      },
      "execution_count": null,
      "outputs": [
        {
          "output_type": "execute_result",
          "data": {
            "text/plain": [
              "True"
            ]
          },
          "metadata": {},
          "execution_count": 8
        }
      ]
    },
    {
      "cell_type": "code",
      "source": [
        "url.startswith('ftp')"
      ],
      "metadata": {
        "colab": {
          "base_uri": "https://localhost:8080/"
        },
        "id": "A1QKhmVCVMof",
        "outputId": "2b6f031f-0a17-4970-bb11-1d908cd35cd5"
      },
      "execution_count": null,
      "outputs": [
        {
          "output_type": "execute_result",
          "data": {
            "text/plain": [
              "False"
            ]
          },
          "metadata": {},
          "execution_count": 9
        }
      ]
    },
    {
      "cell_type": "code",
      "source": [
        "tel = '010-1234-5678'\n",
        "tel.endswith('5678')"
      ],
      "metadata": {
        "colab": {
          "base_uri": "https://localhost:8080/"
        },
        "id": "2xr-tF9TVZKL",
        "outputId": "6418addc-c8ab-45d2-8f83-10aa652cf027"
      },
      "execution_count": null,
      "outputs": [
        {
          "output_type": "execute_result",
          "data": {
            "text/plain": [
              "True"
            ]
          },
          "metadata": {},
          "execution_count": 10
        }
      ]
    },
    {
      "cell_type": "code",
      "source": [
        "# substring이 string에 포함되어 있는지를 검사: substring in string\n",
        "'1234' in tel"
      ],
      "metadata": {
        "colab": {
          "base_uri": "https://localhost:8080/"
        },
        "id": "3VgphY8wV2zs",
        "outputId": "6f31d569-fbb4-420e-ab24-3f8d3c5d793f"
      },
      "execution_count": null,
      "outputs": [
        {
          "output_type": "execute_result",
          "data": {
            "text/plain": [
              "True"
            ]
          },
          "metadata": {},
          "execution_count": 11
        }
      ]
    },
    {
      "cell_type": "code",
      "source": [
        "'0000' in tel"
      ],
      "metadata": {
        "colab": {
          "base_uri": "https://localhost:8080/"
        },
        "id": "s2yizrP5WZYl",
        "outputId": "58efad18-e0f2-419c-e688-83bb2e930f30"
      },
      "execution_count": null,
      "outputs": [
        {
          "output_type": "execute_result",
          "data": {
            "text/plain": [
              "False"
            ]
          },
          "metadata": {},
          "execution_count": 12
        }
      ]
    },
    {
      "cell_type": "code",
      "source": [
        "email = 'abc.def@gmail.com'\n",
        "email.find('@')  # argument로 전달한 문자열이 처음 등장하는 인덱스. 만약 문자열이 없으면 -1을 리턴."
      ],
      "metadata": {
        "colab": {
          "base_uri": "https://localhost:8080/"
        },
        "id": "c8Fa3RWLWcbc",
        "outputId": "e2faede6-d0f3-47df-a134-2bdf5876625d"
      },
      "execution_count": null,
      "outputs": [
        {
          "output_type": "execute_result",
          "data": {
            "text/plain": [
              "7"
            ]
          },
          "metadata": {},
          "execution_count": 13
        }
      ]
    },
    {
      "cell_type": "code",
      "source": [
        "idx = email.find('@')\n",
        "print(email[:idx])  # 문자열 slicing\n",
        "print(email[(idx + 1):])"
      ],
      "metadata": {
        "colab": {
          "base_uri": "https://localhost:8080/"
        },
        "id": "XeC0iacOXM1s",
        "outputId": "2808ca37-6f6a-4388-e6d2-0baddc6947a7"
      },
      "execution_count": null,
      "outputs": [
        {
          "output_type": "stream",
          "name": "stdout",
          "text": [
            "abc.def\n",
            "gmail.com\n"
          ]
        }
      ]
    },
    {
      "cell_type": "code",
      "source": [
        "sentence = 'Textual data in Python is handled with str objects, or strings.'"
      ],
      "metadata": {
        "id": "h1nbq-aaX9Az"
      },
      "execution_count": null,
      "outputs": []
    },
    {
      "cell_type": "code",
      "source": [
        "sentence.split()  #> 공백(space, tab, enter)을 기준으로 나뉜 문자열들의 list"
      ],
      "metadata": {
        "colab": {
          "base_uri": "https://localhost:8080/"
        },
        "id": "dlVonX6RYumc",
        "outputId": "37235eef-f30f-4cc7-cdac-24287d2dd229"
      },
      "execution_count": null,
      "outputs": [
        {
          "output_type": "execute_result",
          "data": {
            "text/plain": [
              "['Textual',\n",
              " 'data',\n",
              " 'in',\n",
              " 'Python',\n",
              " 'is',\n",
              " 'handled',\n",
              " 'with',\n",
              " 'str',\n",
              " 'objects,',\n",
              " 'or',\n",
              " 'strings.']"
            ]
          },
          "metadata": {},
          "execution_count": 16
        }
      ]
    },
    {
      "cell_type": "code",
      "source": [
        "date = '2022-03-11'\n",
        "date.split(sep='-')"
      ],
      "metadata": {
        "colab": {
          "base_uri": "https://localhost:8080/"
        },
        "id": "aC8d13FEZMZ0",
        "outputId": "82eae227-ae5c-4f9b-e990-228d971c27df"
      },
      "execution_count": null,
      "outputs": [
        {
          "output_type": "execute_result",
          "data": {
            "text/plain": [
              "['2022', '03', '11']"
            ]
          },
          "metadata": {},
          "execution_count": 17
        }
      ]
    },
    {
      "cell_type": "code",
      "source": [
        "time = '14:19:30'\n",
        "time.split(sep=':')"
      ],
      "metadata": {
        "colab": {
          "base_uri": "https://localhost:8080/"
        },
        "id": "7GcWwheJahPr",
        "outputId": "61d4cc10-a46a-4937-bd6d-3baf6f7c6844"
      },
      "execution_count": null,
      "outputs": [
        {
          "output_type": "execute_result",
          "data": {
            "text/plain": [
              "['14', '19', '30']"
            ]
          },
          "metadata": {},
          "execution_count": 18
        }
      ]
    },
    {
      "cell_type": "code",
      "source": [
        "# CSV: Comma-Separated Values\n",
        "csv='100,Scott,200,scott@itwill.co.kr,1234-5678,IT'\n",
        "csv.split(sep=',')"
      ],
      "metadata": {
        "colab": {
          "base_uri": "https://localhost:8080/"
        },
        "id": "Mi3imBCGazcj",
        "outputId": "531610a8-4101-45a2-cd8c-458132f16fbc"
      },
      "execution_count": null,
      "outputs": [
        {
          "output_type": "execute_result",
          "data": {
            "text/plain": [
              "['100', 'Scott', '200', 'scott@itwill.co.kr', '1234-5678', 'IT']"
            ]
          },
          "metadata": {},
          "execution_count": 19
        }
      ]
    },
    {
      "cell_type": "code",
      "source": [
        "'/'.join(['2022', '03', '11'])"
      ],
      "metadata": {
        "colab": {
          "base_uri": "https://localhost:8080/",
          "height": 35
        },
        "id": "x_daiAk-b0Lk",
        "outputId": "533911a1-83cf-4c17-e0b9-00e332dc8505"
      },
      "execution_count": null,
      "outputs": [
        {
          "output_type": "execute_result",
          "data": {
            "text/plain": [
              "'2022/03/11'"
            ],
            "application/vnd.google.colaboratory.intrinsic+json": {
              "type": "string"
            }
          },
          "metadata": {},
          "execution_count": 20
        }
      ]
    },
    {
      "cell_type": "code",
      "source": [
        "':'.join(['14', '45', '30'])"
      ],
      "metadata": {
        "colab": {
          "base_uri": "https://localhost:8080/",
          "height": 35
        },
        "id": "2AVdlLOSgVdT",
        "outputId": "1d89a86c-97b4-45b9-d95c-2377e784c40b"
      },
      "execution_count": null,
      "outputs": [
        {
          "output_type": "execute_result",
          "data": {
            "text/plain": [
              "'14:45:30'"
            ],
            "application/vnd.google.colaboratory.intrinsic+json": {
              "type": "string"
            }
          },
          "metadata": {},
          "execution_count": 21
        }
      ]
    },
    {
      "cell_type": "code",
      "source": [
        "' '.join(['홍길동', 'abc', '123-456'])"
      ],
      "metadata": {
        "colab": {
          "base_uri": "https://localhost:8080/",
          "height": 35
        },
        "id": "nIfAmQ1pg17r",
        "outputId": "091e3321-3798-46ca-9b82-6fcf8979ada8"
      },
      "execution_count": null,
      "outputs": [
        {
          "output_type": "execute_result",
          "data": {
            "text/plain": [
              "'홍길동 abc 123-456'"
            ],
            "application/vnd.google.colaboratory.intrinsic+json": {
              "type": "string"
            }
          },
          "metadata": {},
          "execution_count": 22
        }
      ]
    },
    {
      "cell_type": "code",
      "source": [
        "s = '          Hello, Python!     안녕하세요...         '\n",
        "print(s)\n",
        "print(s.lstrip())  # 문자열의 왼쪽(시작 부분)에 있는 모든 공백들을 제거\n",
        "print(s.rstrip())  # 문자열의 오른쪽(끝나는 부분)에 있는 모든 공백들을 제거\n",
        "print(s.strip())   # 문자열의 시작과 끝 부분에 있는 모든 공백들을 제거"
      ],
      "metadata": {
        "colab": {
          "base_uri": "https://localhost:8080/"
        },
        "id": "Plk4c0ZOg9TK",
        "outputId": "30def657-41cd-4eaf-ef0f-1b9b9a0e1524"
      },
      "execution_count": null,
      "outputs": [
        {
          "output_type": "stream",
          "name": "stdout",
          "text": [
            "          Hello, Python!     안녕하세요...         \n",
            "Hello, Python!     안녕하세요...         \n",
            "          Hello, Python!     안녕하세요...\n",
            "Hello, Python!     안녕하세요...\n"
          ]
        }
      ]
    },
    {
      "cell_type": "code",
      "source": [
        "s = '<<<Hello, Python>>>'\n",
        "s.lstrip('<').rstrip('>')"
      ],
      "metadata": {
        "colab": {
          "base_uri": "https://localhost:8080/",
          "height": 35
        },
        "id": "CR2STrIBhY65",
        "outputId": "65cfdc68-63ba-493c-a7ae-42ae4ca63db8"
      },
      "execution_count": null,
      "outputs": [
        {
          "output_type": "execute_result",
          "data": {
            "text/plain": [
              "'Hello, Python'"
            ],
            "application/vnd.google.colaboratory.intrinsic+json": {
              "type": "string"
            }
          },
          "metadata": {},
          "execution_count": 24
        }
      ]
    },
    {
      "cell_type": "code",
      "source": [
        "s = 'hello,안녕,python,100'\n",
        "s.replace(',', '::')  # 문자열 s에서 ','를 '::'로 대체"
      ],
      "metadata": {
        "colab": {
          "base_uri": "https://localhost:8080/",
          "height": 35
        },
        "id": "TztM6g5DjOLq",
        "outputId": "2ad40e06-42fc-45f3-fd6e-19e3f5570bee"
      },
      "execution_count": null,
      "outputs": [
        {
          "output_type": "execute_result",
          "data": {
            "text/plain": [
              "'hello::안녕::python::100'"
            ],
            "application/vnd.google.colaboratory.intrinsic+json": {
              "type": "string"
            }
          },
          "metadata": {},
          "execution_count": 25
        }
      ]
    },
    {
      "cell_type": "code",
      "source": [
        "sentence = 'Textual data in Python is handled with str objects, or strings.'\n",
        "# 구두점(, .)들은 제거하고 순수하게 단어들로 이루어진 리스트를 만들어 보세요.\n",
        "sentence.replace(',', '').replace('.', '').split()"
      ],
      "metadata": {
        "colab": {
          "base_uri": "https://localhost:8080/"
        },
        "id": "9WFTOaDBjoLJ",
        "outputId": "c682ac18-649b-4c1a-8dfc-d4c3a1320f8d"
      },
      "execution_count": null,
      "outputs": [
        {
          "output_type": "execute_result",
          "data": {
            "text/plain": [
              "['Textual',\n",
              " 'data',\n",
              " 'in',\n",
              " 'Python',\n",
              " 'is',\n",
              " 'handled',\n",
              " 'with',\n",
              " 'str',\n",
              " 'objects',\n",
              " 'or',\n",
              " 'strings']"
            ]
          },
          "metadata": {},
          "execution_count": 26
        }
      ]
    }
  ]
}