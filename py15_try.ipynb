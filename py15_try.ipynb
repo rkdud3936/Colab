{
  "nbformat": 4,
  "nbformat_minor": 0,
  "metadata": {
    "colab": {
      "name": "py15_try.ipynb",
      "provenance": [],
      "collapsed_sections": [],
      "include_colab_link": true
    },
    "kernelspec": {
      "name": "python3",
      "display_name": "Python 3"
    },
    "language_info": {
      "name": "python"
    }
  },
  "cells": [
    {
      "cell_type": "markdown",
      "metadata": {
        "id": "view-in-github",
        "colab_type": "text"
      },
      "source": [
        "<a href=\"https://colab.research.google.com/github/rkdud3936/Python/blob/main/py15_try.ipynb\" target=\"_parent\"><img src=\"https://colab.research.google.com/assets/colab-badge.svg\" alt=\"Open In Colab\"/></a>"
      ]
    },
    {
      "cell_type": "markdown",
      "source": [
        "# 예외(Exception)/오류(Error) 처리\n",
        "\n",
        "* 오류가 발생한 위치와 원인을 파악해서 오류가 발생하지 않도록 코드 수정.\n",
        "* 오류가 발생하더라도 프로그램이 비정상적으로 종료되지 않고 계속 실행될 수 있도록 처리. --> try 구문\n",
        "    * Java는 try 구문을 사용하지 않으면 compile 에러가 발생하는 경우가 있지만,\n",
        "    * Python에서는 try 구문이 필수로 필요한 것은 아님."
      ],
      "metadata": {
        "id": "QtDlC5IclkUq"
      }
    },
    {
      "cell_type": "markdown",
      "source": [
        "```\n",
        "try:\n",
        "    (1) 실행할 코드(들)\n",
        "except [에러이름 [as 별명]]:\n",
        "    (2) 에러가 발생했을 때 실행할 코드(들)\n",
        "[else:\n",
        "    (3) try 블록 내부의 모든 코드가 에러 없이 정상적으로 실행된 경우 실행할 문장(들)]\n",
        "[finally:\n",
        "    (4) try 블록을 실행 중 에러 발생 여부와 상관없이 항상 실행할 문장(들)]\n",
        "```\n",
        "\n",
        "* 에러가 발생하지 않은 경우: (1) [-> (3) -> (4)]\n",
        "* 에러가 발생한 경우: (1) -> (2) [-> (4)]"
      ],
      "metadata": {
        "id": "EDnak8hQm216"
      }
    },
    {
      "cell_type": "code",
      "execution_count": null,
      "metadata": {
        "colab": {
          "base_uri": "https://localhost:8080/"
        },
        "id": "T9D82PzhlVTw",
        "outputId": "404d28dd-b415-4c03-9ec2-8ade33dc2f1c"
      },
      "outputs": [
        {
          "output_type": "stream",
          "name": "stdout",
          "text": [
            "숫자 입력>>> 1.234\n",
            "x = 1.234\n"
          ]
        }
      ],
      "source": [
        "try:\n",
        "    x = float(input('숫자 입력>>> '))\n",
        "    print('x =', x)\n",
        "except:  # 모든 종류의 에러를 처리\n",
        "    print('숫자로 입력하세요...')"
      ]
    },
    {
      "cell_type": "code",
      "source": [
        "try:\n",
        "    x = float(input('숫자 입력>>> '))  # (1)\n",
        "except:\n",
        "    print('숫자로 입력하세요...')      # (2)\n",
        "else:\n",
        "    print('x =', x)                    # (3)\n",
        "finally:\n",
        "    print('=== end ===')               # (4)"
      ],
      "metadata": {
        "colab": {
          "base_uri": "https://localhost:8080/"
        },
        "id": "Km11FCGAuIxg",
        "outputId": "0f216729-403e-4a42-b2a5-41e91581c774"
      },
      "execution_count": null,
      "outputs": [
        {
          "output_type": "stream",
          "name": "stdout",
          "text": [
            "숫자 입력>>> asf\n",
            "숫자로 입력하세요...\n",
            "=== end ===\n"
          ]
        }
      ]
    },
    {
      "cell_type": "code",
      "source": [
        "try:\n",
        "    x = float(input('x 입력>>> '))\n",
        "    y = float(input('y 입력>>> '))\n",
        "    print(f'{x} + {y} = {x + y}')\n",
        "    print(f'{x} - {y} = {x - y}')\n",
        "    print(f'{x} x {y} = {x * y}')\n",
        "    print(f'{x} / {y} = {x / y}')\n",
        "except ValueError:\n",
        "    print('숫자로 입력하세요...')\n",
        "except ZeroDivisionError:\n",
        "    print('0으로 나눌 수는 없습니다...')"
      ],
      "metadata": {
        "colab": {
          "base_uri": "https://localhost:8080/"
        },
        "id": "BZyFqQF2ual6",
        "outputId": "81af5666-0536-4bbf-ef1a-3306aa852ffe"
      },
      "execution_count": null,
      "outputs": [
        {
          "output_type": "stream",
          "name": "stdout",
          "text": [
            "x 입력>>> 1\n",
            "y 입력>>> 0\n",
            "1.0 + 0.0 = 1.0\n",
            "1.0 - 0.0 = 1.0\n",
            "1.0 x 0.0 = 0.0\n",
            "0으로 나눌 수는 없습니다...\n"
          ]
        }
      ]
    },
    {
      "cell_type": "markdown",
      "source": [
        "# try-except 연습"
      ],
      "metadata": {
        "id": "cTMiRp-ayl8P"
      }
    },
    {
      "cell_type": "markdown",
      "source": [
        "## Ex 1.\n",
        "\n",
        "정수 한 개를 입력받고, 입력받은 정수를 출력."
      ],
      "metadata": {
        "id": "aKLAqjqgypS_"
      }
    },
    {
      "cell_type": "code",
      "source": [
        "while True:\n",
        "    try:\n",
        "        n = int(input('정수 입력>>> '))\n",
        "        print(n)\n",
        "        break  # 무한루프 종료\n",
        "    except:\n",
        "        print('입력한 값은 정수가 아닙니다.')"
      ],
      "metadata": {
        "colab": {
          "base_uri": "https://localhost:8080/"
        },
        "id": "RLQynb0FweFp",
        "outputId": "079fc333-5022-4fca-9e06-c08142f7069d"
      },
      "execution_count": null,
      "outputs": [
        {
          "output_type": "stream",
          "name": "stdout",
          "text": [
            "정수 입력>>> qqq\n",
            "입력한 값은 정수가 아닙니다.\n",
            "정수 입력>>> 123\n",
            "123\n"
          ]
        }
      ]
    },
    {
      "cell_type": "markdown",
      "source": [
        "## Ex 2.\n",
        "\n",
        "word counting - 리스트 words의 문자열을 key, 문자열의 등장 회수를 value로 하는 dict를 만드세요."
      ],
      "metadata": {
        "id": "-eMA2WmLzBgf"
      }
    },
    {
      "cell_type": "code",
      "source": [
        "words = ['one', 'two', 'three', 'two', 'three', 'four']\n",
        "#> {'one': 1, 'two': 2, 'three': 2, 'four': 1}\n",
        "word_counts = {}  # empty dict\n",
        "for w in words:\n",
        "    try:\n",
        "        word_counts[w] += 1  # word_counts[w] = word_counts[w] + 1\n",
        "    except:\n",
        "        word_counts[w] = 1\n",
        "    print(word_counts)"
      ],
      "metadata": {
        "colab": {
          "base_uri": "https://localhost:8080/"
        },
        "id": "CdswkfxSzH2J",
        "outputId": "49fc1952-c554-4975-b48a-4bb9bf4c7368"
      },
      "execution_count": null,
      "outputs": [
        {
          "output_type": "stream",
          "name": "stdout",
          "text": [
            "{'one': 1}\n",
            "{'one': 1, 'two': 1}\n",
            "{'one': 1, 'two': 1, 'three': 1}\n",
            "{'one': 1, 'two': 2, 'three': 1}\n",
            "{'one': 1, 'two': 2, 'three': 2}\n",
            "{'one': 1, 'two': 2, 'three': 2, 'four': 1}\n"
          ]
        }
      ]
    }
  ]
}