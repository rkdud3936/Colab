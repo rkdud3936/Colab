{
  "nbformat": 4,
  "nbformat_minor": 0,
  "metadata": {
    "colab": {
      "name": "py09_set.ipynb",
      "provenance": [],
      "collapsed_sections": [],
      "authorship_tag": "ABX9TyMCxf7pxkZS9/p0yhTh4BZr",
      "include_colab_link": true
    },
    "kernelspec": {
      "name": "python3",
      "display_name": "Python 3"
    },
    "language_info": {
      "name": "python"
    }
  },
  "cells": [
    {
      "cell_type": "markdown",
      "metadata": {
        "id": "view-in-github",
        "colab_type": "text"
      },
      "source": [
        "<a href=\"https://colab.research.google.com/github/rkdud3936/Python/blob/main/py09_set.ipynb\" target=\"_parent\"><img src=\"https://colab.research.google.com/assets/colab-badge.svg\" alt=\"Open In Colab\"/></a>"
      ]
    },
    {
      "cell_type": "markdown",
      "source": [
        "# 집합(set)\n",
        "\n",
        "* 중복된 데이터의 저장을 허용하지 않음. `{1, 2, 2, 3} = {1, 2, 3}`\n",
        "* 데이터가 저장되는 순서가 중요하지 않음. (인덱스를 사용하지 않음.)`{1, 3, 2} = {1, 2, 3}`"
      ],
      "metadata": {
        "id": "nMNDNamjG6Z1"
      }
    },
    {
      "cell_type": "code",
      "execution_count": null,
      "metadata": {
        "colab": {
          "base_uri": "https://localhost:8080/"
        },
        "id": "_TNw8JnYGm0m",
        "outputId": "fbbbae42-40b5-49d5-cbd5-3df4bd12251d"
      },
      "outputs": [
        {
          "output_type": "execute_result",
          "data": {
            "text/plain": [
              "{1, 2, 3}"
            ]
          },
          "metadata": {},
          "execution_count": 1
        }
      ],
      "source": [
        "s1 = {1, 2, 2, 3, 3, 3} # 중복저장허용x\n",
        "s1"
      ]
    },
    {
      "cell_type": "code",
      "source": [
        "type(s1)"
      ],
      "metadata": {
        "colab": {
          "base_uri": "https://localhost:8080/"
        },
        "id": "x-DXBR7fHwTU",
        "outputId": "4cdd9e57-d047-4253-9eaa-5cf1bb449552"
      },
      "execution_count": null,
      "outputs": [
        {
          "output_type": "execute_result",
          "data": {
            "text/plain": [
              "set"
            ]
          },
          "metadata": {},
          "execution_count": 2
        }
      ]
    },
    {
      "cell_type": "code",
      "source": [
        "s2 = {3, 1, 2} # 순서가 상관없다\n",
        "s2"
      ],
      "metadata": {
        "colab": {
          "base_uri": "https://localhost:8080/"
        },
        "id": "jAWjcmPAHzY1",
        "outputId": "fb53a15b-70c6-42c9-e726-cd5e601f719a"
      },
      "execution_count": null,
      "outputs": [
        {
          "output_type": "execute_result",
          "data": {
            "text/plain": [
              "{1, 2, 3}"
            ]
          },
          "metadata": {},
          "execution_count": 3
        }
      ]
    },
    {
      "cell_type": "code",
      "source": [
        "# s1[0] # set객체는 인덱스를 사용할 수 없음!\n",
        "# for-in 구문을 사용해서 set 객체의 원소들을 하나씩 반복하면서 참조할 수 있음.\n",
        "for x in s1:\n",
        "    print(x ,end = ' ')"
      ],
      "metadata": {
        "colab": {
          "base_uri": "https://localhost:8080/"
        },
        "id": "euC07j_9IAkE",
        "outputId": "081e7417-adea-435a-8247-4c85c45a7f10"
      },
      "execution_count": null,
      "outputs": [
        {
          "output_type": "stream",
          "name": "stdout",
          "text": [
            "1 2 3 "
          ]
        }
      ]
    },
    {
      "cell_type": "markdown",
      "source": [
        "# set의 기능(메서드)"
      ],
      "metadata": {
        "id": "7lNC7HqBIzAG"
      }
    },
    {
      "cell_type": "code",
      "source": [
        "s1 = {1, 2, 3, 4}\n",
        "s2 = {3, 4, 5}"
      ],
      "metadata": {
        "id": "Nph08ai1IXhp"
      },
      "execution_count": null,
      "outputs": []
    },
    {
      "cell_type": "code",
      "source": [
        "# 합집합\n",
        "s1.union(s2)"
      ],
      "metadata": {
        "colab": {
          "base_uri": "https://localhost:8080/"
        },
        "id": "t4T63MueI_nS",
        "outputId": "4b13406c-b876-499d-ba36-eee8f80d85c7"
      },
      "execution_count": null,
      "outputs": [
        {
          "output_type": "execute_result",
          "data": {
            "text/plain": [
              "{1, 2, 3, 4, 5}"
            ]
          },
          "metadata": {},
          "execution_count": 9
        }
      ]
    },
    {
      "cell_type": "code",
      "source": [
        "s1 | s2 #> |: 합집합 연산자"
      ],
      "metadata": {
        "colab": {
          "base_uri": "https://localhost:8080/"
        },
        "id": "CJzN4PFQJeT8",
        "outputId": "dffde6fe-31cc-4f37-8c0d-50a4760bf2b7"
      },
      "execution_count": null,
      "outputs": [
        {
          "output_type": "execute_result",
          "data": {
            "text/plain": [
              "{1, 2, 3, 4, 5}"
            ]
          },
          "metadata": {},
          "execution_count": 10
        }
      ]
    },
    {
      "cell_type": "code",
      "source": [
        "# 교집합(intersection)\n",
        "s1.intersection(s2)"
      ],
      "metadata": {
        "colab": {
          "base_uri": "https://localhost:8080/"
        },
        "id": "2vUNOrpxJg2B",
        "outputId": "524bcd4a-f53e-405d-faca-9ce7cc56e316"
      },
      "execution_count": null,
      "outputs": [
        {
          "output_type": "execute_result",
          "data": {
            "text/plain": [
              "{3, 4}"
            ]
          },
          "metadata": {},
          "execution_count": 11
        }
      ]
    },
    {
      "cell_type": "code",
      "source": [
        "s1 & s2"
      ],
      "metadata": {
        "colab": {
          "base_uri": "https://localhost:8080/"
        },
        "id": "AO4NbGQIKH2h",
        "outputId": "b7500340-0500-42c0-dc69-a3f630365e6b"
      },
      "execution_count": null,
      "outputs": [
        {
          "output_type": "execute_result",
          "data": {
            "text/plain": [
              "{3, 4}"
            ]
          },
          "metadata": {},
          "execution_count": 12
        }
      ]
    },
    {
      "cell_type": "code",
      "source": [
        "# 차집합(difference)\n",
        "s1.difference(s2)"
      ],
      "metadata": {
        "colab": {
          "base_uri": "https://localhost:8080/"
        },
        "id": "VlGC6KrLKJcc",
        "outputId": "7f560dd2-5252-492f-cd1c-99c25a01cdcd"
      },
      "execution_count": null,
      "outputs": [
        {
          "output_type": "execute_result",
          "data": {
            "text/plain": [
              "{1, 2}"
            ]
          },
          "metadata": {},
          "execution_count": 13
        }
      ]
    },
    {
      "cell_type": "code",
      "source": [
        "s2.difference(s1)"
      ],
      "metadata": {
        "colab": {
          "base_uri": "https://localhost:8080/"
        },
        "id": "CCZbOpd3KTOy",
        "outputId": "0741e783-ea5a-4e4e-a476-d56342894df9"
      },
      "execution_count": null,
      "outputs": [
        {
          "output_type": "execute_result",
          "data": {
            "text/plain": [
              "{5}"
            ]
          },
          "metadata": {},
          "execution_count": 15
        }
      ]
    },
    {
      "cell_type": "code",
      "source": [
        "s1 - s2"
      ],
      "metadata": {
        "colab": {
          "base_uri": "https://localhost:8080/"
        },
        "id": "J39JeVFWKTgm",
        "outputId": "4b4c183f-f729-4174-c63e-5b05b154c35f"
      },
      "execution_count": null,
      "outputs": [
        {
          "output_type": "execute_result",
          "data": {
            "text/plain": [
              "{1, 2}"
            ]
          },
          "metadata": {},
          "execution_count": 16
        }
      ]
    },
    {
      "cell_type": "markdown",
      "source": [
        "```\n",
        "s1 | s2 = s2 | s1\n",
        "s1 & s2 = s2 & s1\n",
        "s1 - s2 != s2 - s1\n",
        "``` "
      ],
      "metadata": {
        "id": "gTsJlEHtKnzI"
      }
    },
    {
      "cell_type": "code",
      "source": [
        "# set(arg): set 객체를 생성해서 리턴.\n",
        "numbers = [1, 2, 3, 1, 2, 1, 2, 3, 4] #> 9개의 아이템을 갖는 리스트\n",
        "\n",
        "#numbers에서 중복되지 않는 값\n",
        "number_set = set(numbers)\n",
        "print(number_set)\n",
        "\n",
        "# numbers에서 중복되지 않는 값들의 개수\n",
        "print(len(number_set))"
      ],
      "metadata": {
        "colab": {
          "base_uri": "https://localhost:8080/"
        },
        "id": "onMRqAJ6Kkfm",
        "outputId": "56e342e9-35f9-4226-a2dc-a00e7301133d"
      },
      "execution_count": null,
      "outputs": [
        {
          "output_type": "stream",
          "name": "stdout",
          "text": [
            "{1, 2, 3, 4}\n",
            "4\n"
          ]
        }
      ]
    },
    {
      "cell_type": "code",
      "source": [
        "print(s1)\n",
        "\n",
        "# set에 원소 추가. 이미 존재하는 원소이면 중복 저장은 되지 않음\n",
        "s1.add(100)\n",
        "print(s1)\n",
        "\n",
        "s1.add(1)\n",
        "print(s1)\n"
      ],
      "metadata": {
        "colab": {
          "base_uri": "https://localhost:8080/"
        },
        "id": "z60_tj8cLQKO",
        "outputId": "3f5d9f06-3d16-44c7-d274-88c040cc2efa"
      },
      "execution_count": null,
      "outputs": [
        {
          "output_type": "stream",
          "name": "stdout",
          "text": [
            "{1, 2, 3, 100, 4}\n",
            "{1, 2, 3, 100, 4}\n",
            "{1, 2, 3, 100, 4}\n"
          ]
        }
      ]
    },
    {
      "cell_type": "code",
      "source": [
        "# set의 원소 삭제.\n",
        "s1.remove(100)\n",
        "print(s1)"
      ],
      "metadata": {
        "colab": {
          "base_uri": "https://localhost:8080/"
        },
        "id": "MPRaHGXENFId",
        "outputId": "39e25ad5-9eb1-4ebb-9d62-e9782acf03cf"
      },
      "execution_count": null,
      "outputs": [
        {
          "output_type": "stream",
          "name": "stdout",
          "text": [
            "{1, 2, 3, 4}\n"
          ]
        }
      ]
    },
    {
      "cell_type": "code",
      "source": [
        ""
      ],
      "metadata": {
        "id": "qtQC7gn4Nx4u"
      },
      "execution_count": null,
      "outputs": []
    }
  ]
}