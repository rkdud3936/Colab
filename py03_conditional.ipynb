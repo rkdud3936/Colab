{
  "nbformat": 4,
  "nbformat_minor": 0,
  "metadata": {
    "colab": {
      "name": "py03_conditional.ipynb",
      "provenance": [],
      "collapsed_sections": [],
      "authorship_tag": "ABX9TyNDWe4Z9OpsjwyjeLiWwmi5",
      "include_colab_link": true
    },
    "kernelspec": {
      "name": "python3",
      "display_name": "Python 3"
    },
    "language_info": {
      "name": "python"
    }
  },
  "cells": [
    {
      "cell_type": "markdown",
      "metadata": {
        "id": "view-in-github",
        "colab_type": "text"
      },
      "source": [
        "<a href=\"https://colab.research.google.com/github/rkdud3936/Colab/blob/main/py03_conditional.ipynb\" target=\"_parent\"><img src=\"https://colab.research.google.com/assets/colab-badge.svg\" alt=\"Open In Colab\"/></a>"
      ]
    },
    {
      "cell_type": "markdown",
      "source": [
        "#조건문(Conditional Statement)"
      ],
      "metadata": {
        "id": "lBygFnD4G0c3"
      }
    },
    {
      "cell_type": "markdown",
      "source": [
        "## else가 없는 조건문\n",
        "\n",
        "\n",
        "```\n",
        "if 조건식:\n",
        "    조건식을 만족할 때 실행한 코드(들)\n",
        "```\n",
        "\n",
        "* `if 조건식` 뒤에는 반드시 **콜론(:)**을 사용해야 함.\n",
        "* `if` 블록(조건식을 만족할 때 실행할 문장들)은 반드시 **들여쓰기(indentation)**을 해야함.\n",
        "* 파이썬은 들여쓰기(indentation)이 제대로 되어 있지 않으면 문장이 실행되지 않음!\n",
        "\n",
        "\n"
      ],
      "metadata": {
        "id": "foph0DTRG7-S"
      }
    },
    {
      "cell_type": "code",
      "execution_count": null,
      "metadata": {
        "id": "pbufiZ79GbPU"
      },
      "outputs": [],
      "source": [
        "n = -100"
      ]
    },
    {
      "cell_type": "code",
      "source": [
        "if n > 0:\n",
        "    print(f'{n}은 양수입니다...')\n",
        "    print('if 블록 내부 끝')\n",
        "print('if 블록 바깥')"
      ],
      "metadata": {
        "colab": {
          "base_uri": "https://localhost:8080/"
        },
        "id": "P1iZYe3bIhy6",
        "outputId": "c3e3af55-9ec9-44c3-dcb1-a2713d37d4d6"
      },
      "execution_count": null,
      "outputs": [
        {
          "output_type": "stream",
          "name": "stdout",
          "text": [
            "100은 양수입니다...\n",
            "if 블록 내부 끝\n",
            "if 블록 바깥\n"
          ]
        }
      ]
    },
    {
      "cell_type": "markdown",
      "source": [
        "## else 있는 조건문\n",
        "\n",
        "```\n",
        "  if 조건식: \n",
        "      조건식을 만족 할 때 실행할 문장(들)\n",
        "  else:\n",
        "      조건식을 만족하지 못할 때 실행할 문장(들)\n",
        "```\n"
      ],
      "metadata": {
        "id": "CJ4YAZyuLUWv"
      }
    },
    {
      "cell_type": "code",
      "source": [
        "if n > 0:\n",
        "    print(f'{n}은 양수입니다...')\n",
        "else:\n",
        "    print(f'{n}은 양수가 아닙니다...')\n",
        "print('if-else 끝')"
      ],
      "metadata": {
        "colab": {
          "base_uri": "https://localhost:8080/"
        },
        "id": "vUIVte6zI9GY",
        "outputId": "6dd525fa-b8a5-48a6-a878-b95c3699724f"
      },
      "execution_count": null,
      "outputs": [
        {
          "output_type": "stream",
          "name": "stdout",
          "text": [
            "100은 양수입니다...\n",
            "if-else 끝\n"
          ]
        }
      ]
    },
    {
      "cell_type": "code",
      "source": [
        "# 정수를 입력받아서 짝수인지 홀수인지 출력\n",
        "# input은 문자열이기 때문에 int 앞에 붙여주기\n",
        "number = int(input('정수입력>>>'))\n",
        "if number % 2 == 0:\n",
        "  print(f'{number}은 짝수입니다...')\n",
        "else:\n",
        "  print(f'{number}은 홀수입니다...')\n"
      ],
      "metadata": {
        "colab": {
          "base_uri": "https://localhost:8080/"
        },
        "id": "WIUHmtubL634",
        "outputId": "bddcce6a-10f1-4eab-973a-b28babdad77f"
      },
      "execution_count": null,
      "outputs": [
        {
          "output_type": "stream",
          "name": "stdout",
          "text": [
            "정수입력>>>25\n",
            "25은 홀수입니다...\n"
          ]
        }
      ]
    },
    {
      "cell_type": "markdown",
      "source": [
        "## chained conditional(if-elif-else)\n",
        "\n",
        "```\n",
        "if 조건식1:\n",
        "    조건식1을 만족할 때 실행할 문장(들)\n",
        "elif 조건식2:\n",
        "    조건식2을 만족할 때 실행할 문장(들)\n",
        "...\n",
        "else: \n",
        "    위의 모든 조건식을 만족하지 못할 때 실행할 문장(들)    \n",
        "```"
      ],
      "metadata": {
        "id": "nMx4LqKsS19i"
      }
    },
    {
      "cell_type": "code",
      "source": [
        "# 정수를 입력받아서 양수, 음수, 0인 지를 출력 \n",
        "number = int(input('정수입력>>> '))\n",
        "if number > 0:\n",
        "    print(f'양수')\n",
        "elif number < 0:\n",
        "    print(f'음수')\n",
        "else: \n",
        "    print(f'zero')"
      ],
      "metadata": {
        "colab": {
          "base_uri": "https://localhost:8080/"
        },
        "id": "uyvdz6qqNHYo",
        "outputId": "6d8f2f96-6583-4b71-ed01-6f158e6e9fb4"
      },
      "execution_count": null,
      "outputs": [
        {
          "output_type": "stream",
          "name": "stdout",
          "text": [
            "정수입력>>> 0\n",
            "zero\n"
          ]
        }
      ]
    },
    {
      "cell_type": "markdown",
      "source": [
        "## 중첩 조건문(nested conditional)\n",
        "\n",
        "*`if` 블록, `elif` 블록, `else` 블록 안에서 조건문을 사용하는 것.\n",
        "* 중첩 조건문은 `elif`를 사용하거나 논리 연산자(and, or)를 사용해서 중첩되지 않는 조건문으로 만들 수도 있음.\n",
        "* 중첩 조건문을 사용할 때는 들여쓰기(indentation)을 주의해야 함. 들여쓰기 방법에 따라서 완전히 다른 실행 코드(로직)이 될 수 있음.\n"
      ],
      "metadata": {
        "id": "ci5E1NmlV0EF"
      }
    },
    {
      "cell_type": "code",
      "source": [
        "number = int(input('정수 입력>>> '))\n",
        "if number > 0:\n",
        "    print('양수')\n",
        "else:\n",
        "    if number < 0:\n",
        "        print('음수')\n",
        "    else:\n",
        "        print('zero')\n",
        "        "
      ],
      "metadata": {
        "colab": {
          "base_uri": "https://localhost:8080/"
        },
        "id": "OjjsxFfqVHzJ",
        "outputId": "3d1d2623-c6af-4c62-9b2a-1efd56f0cb84"
      },
      "execution_count": null,
      "outputs": [
        {
          "output_type": "stream",
          "name": "stdout",
          "text": [
            "정수 입력>>> 10\n",
            "양수\n"
          ]
        }
      ]
    },
    {
      "cell_type": "markdown",
      "source": [
        "# 연습문제\n",
        "\n",
        "* 변수 3개에 정수 3개를 입력받고 저장\n",
        "* 입력받은 정수 3개의 평균을 계산\n",
        "* 평균이 \n",
        "    * 90 이상이면 'A',\n",
        "    * 80 이상이면 'B',\n",
        "    * 70 이상이면 'C',\n",
        "    * 70 미만이면 'F'를 출력"
      ],
      "metadata": {
        "id": "MSLyGiXXYDo0"
      }
    },
    {
      "cell_type": "code",
      "source": [
        "# 정수 3개 입력 \n",
        "x = int(input('정수 입력>>> '))\n",
        "y = int(input('정수 입력>>> '))\n",
        "z = int(input('정수 입력>>> '))\n",
        "\n",
        "\n",
        "# 세 정수의 평균 계산\n",
        "mean = (x + y + z) / 3\n",
        "print(f'평균 = {mean}')\n",
        "\n",
        "# A, B, C, F를 출력\n",
        "if mean >= 90:\n",
        "    print('A')\n",
        "elif mean >= 80:\n",
        "    print('B')\n",
        "elif mean >= 70:\n",
        "    print('C')        \n",
        "else: \n",
        "    print('F')"
      ],
      "metadata": {
        "colab": {
          "base_uri": "https://localhost:8080/"
        },
        "id": "Nv4slgzFX99O",
        "outputId": "995259ee-988e-41b3-925e-c1bd98c0274b"
      },
      "execution_count": null,
      "outputs": [
        {
          "output_type": "stream",
          "name": "stdout",
          "text": [
            "정수 입력>>> 80\n",
            "정수 입력>>> 90\n",
            "정수 입력>>> 80\n",
            "평균 = 83.33333333333333\n",
            "B\n"
          ]
        }
      ]
    },
    {
      "cell_type": "code",
      "source": [
        ""
      ],
      "metadata": {
        "id": "t_yrRNBAY9wf"
      },
      "execution_count": null,
      "outputs": []
    }
  ]
}