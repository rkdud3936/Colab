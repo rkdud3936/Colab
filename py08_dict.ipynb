{
  "nbformat": 4,
  "nbformat_minor": 0,
  "metadata": {
    "colab": {
      "name": "py08_dict.ipynb",
      "provenance": [],
      "collapsed_sections": [],
      "authorship_tag": "ABX9TyMDFVU1rRmAc5PZsevfBMHa",
      "include_colab_link": true
    },
    "kernelspec": {
      "name": "python3",
      "display_name": "Python 3"
    },
    "language_info": {
      "name": "python"
    }
  },
  "cells": [
    {
      "cell_type": "markdown",
      "metadata": {
        "id": "view-in-github",
        "colab_type": "text"
      },
      "source": [
        "<a href=\"https://colab.research.google.com/github/rkdud3936/Python/blob/main/py08_dict.ipynb\" target=\"_parent\"><img src=\"https://colab.research.google.com/assets/colab-badge.svg\" alt=\"Open In Colab\"/></a>"
      ]
    },
    {
      "cell_type": "markdown",
      "source": [
        "# dict\n",
        "\n",
        "* dictionary(사전) 형식의 데이터 타입\n",
        "* 키(key)를 기반으로 값(value)을 저장하는 데이터 타입.\n",
        "     * list, tuple: index를 기반으로 값을 저장하는 데이터 타입.\n",
        "     * key의 역할은 list 또는 tuple에서 인덱스 역할과 마찬가지로, dict 타입에 저장되어 있는 유일한 1개의 값을 참조하기 위한 용도. "
      ],
      "metadata": {
        "id": "kLeq8ZQGp6x6"
      }
    },
    {
      "cell_type": "code",
      "source": [
        "students = {1: '홍길동', 2: 'Scott', 10: '김길동'}\n",
        "students"
      ],
      "metadata": {
        "colab": {
          "base_uri": "https://localhost:8080/"
        },
        "id": "f5LrVfbop858",
        "outputId": "2b5b887e-3510-4aad-ea32-22dee19d557e"
      },
      "execution_count": null,
      "outputs": [
        {
          "output_type": "execute_result",
          "data": {
            "text/plain": [
              "{1: '홍길동', 2: 'Scott', 10: '김길동'}"
            ]
          },
          "metadata": {},
          "execution_count": 13
        }
      ]
    },
    {
      "cell_type": "code",
      "source": [
        "type(students)"
      ],
      "metadata": {
        "colab": {
          "base_uri": "https://localhost:8080/"
        },
        "id": "gH869TBVrNDM",
        "outputId": "70010cfa-161f-4aaf-9f15-1afe1c5cb156"
      },
      "execution_count": null,
      "outputs": [
        {
          "output_type": "execute_result",
          "data": {
            "text/plain": [
              "dict"
            ]
          },
          "metadata": {},
          "execution_count": 3
        }
      ]
    },
    {
      "cell_type": "code",
      "source": [
        "len(students) "
      ],
      "metadata": {
        "colab": {
          "base_uri": "https://localhost:8080/"
        },
        "id": "1SnqdYC-rhYt",
        "outputId": "ea7dcea3-5332-43b8-d55f-a5ed459aa06b"
      },
      "execution_count": null,
      "outputs": [
        {
          "output_type": "execute_result",
          "data": {
            "text/plain": [
              "3"
            ]
          },
          "metadata": {},
          "execution_count": 6
        }
      ]
    },
    {
      "cell_type": "code",
      "source": [
        "# dict의 저장된 값(value)을 참조할 때 인덱스 연산자([])와 키(key)를 사용.\n",
        "students[1]"
      ],
      "metadata": {
        "colab": {
          "base_uri": "https://localhost:8080/",
          "height": 36
        },
        "id": "eQ_U5gccrzpW",
        "outputId": "e3421acc-be88-4531-e883-1350b5481e72"
      },
      "execution_count": null,
      "outputs": [
        {
          "output_type": "execute_result",
          "data": {
            "application/vnd.google.colaboratory.intrinsic+json": {
              "type": "string"
            },
            "text/plain": [
              "'홍길동'"
            ]
          },
          "metadata": {},
          "execution_count": 7
        }
      ]
    },
    {
      "cell_type": "code",
      "source": [
        "# dict에 새로운 아이템 추가: dict[new_key] = value\n",
        "students[11] = 'Tiger'\n",
        "students"
      ],
      "metadata": {
        "colab": {
          "base_uri": "https://localhost:8080/"
        },
        "id": "P38tD_7wsbBJ",
        "outputId": "0624e779-9f4c-44b5-bc14-f6f5cf6ea3ff"
      },
      "execution_count": null,
      "outputs": [
        {
          "output_type": "execute_result",
          "data": {
            "text/plain": [
              "{1: '홍길동', 2: 'Scott', 10: '김길동', 11: 'Tiger'}"
            ]
          },
          "metadata": {},
          "execution_count": 8
        }
      ]
    },
    {
      "cell_type": "code",
      "source": [
        "# dict에서 해당 키의 값을 변경: dict[key] = new_value\n",
        "students[10] = 'King'\n",
        "students"
      ],
      "metadata": {
        "colab": {
          "base_uri": "https://localhost:8080/"
        },
        "id": "tYIh3DXVtLxK",
        "outputId": "4c77885f-fa20-4ef3-f800-41a178b8aa84"
      },
      "execution_count": null,
      "outputs": [
        {
          "output_type": "execute_result",
          "data": {
            "text/plain": [
              "{1: '홍길동', 2: 'Scott', 10: 'King', 11: 'Tiger'}"
            ]
          },
          "metadata": {},
          "execution_count": 10
        }
      ]
    },
    {
      "cell_type": "markdown",
      "source": [
        "# dict의 메서드(기능)"
      ],
      "metadata": {
        "id": "a9VVqd_FuBpM"
      }
    },
    {
      "cell_type": "code",
      "source": [
        "book = {'title': '점프 투 파이썬',\n",
        "        'author': '박응용',\n",
        "        'price': 10_000}\n",
        "book"
      ],
      "metadata": {
        "colab": {
          "base_uri": "https://localhost:8080/"
        },
        "id": "IPCitikNtgoM",
        "outputId": "e5ca1071-acde-4ba3-88fa-d9185b566f81"
      },
      "execution_count": null,
      "outputs": [
        {
          "output_type": "execute_result",
          "data": {
            "text/plain": [
              "{'author': '박응용', 'price': 10000, 'title': '점프 투 파이썬'}"
            ]
          },
          "metadata": {},
          "execution_count": 11
        }
      ]
    },
    {
      "cell_type": "code",
      "source": [
        "# dict의 key들의 집합\n",
        "book.keys()\n"
      ],
      "metadata": {
        "colab": {
          "base_uri": "https://localhost:8080/"
        },
        "id": "hv09feieuRea",
        "outputId": "cfd5f647-f31c-44af-91a5-4d1d760bf738"
      },
      "execution_count": null,
      "outputs": [
        {
          "output_type": "execute_result",
          "data": {
            "text/plain": [
              "dict_keys(['title', 'author', 'price'])"
            ]
          },
          "metadata": {},
          "execution_count": 14
        }
      ]
    },
    {
      "cell_type": "code",
      "source": [
        "# dict의 values들의 집합\n",
        "book.values()"
      ],
      "metadata": {
        "colab": {
          "base_uri": "https://localhost:8080/"
        },
        "id": "xLmYPR-1vAwv",
        "outputId": "9092d1e5-806e-4a25-9ef6-99dd1ddfaadc"
      },
      "execution_count": null,
      "outputs": [
        {
          "output_type": "execute_result",
          "data": {
            "text/plain": [
              "dict_values(['점프 투 파이썬', '박응용', 10000])"
            ]
          },
          "metadata": {},
          "execution_count": 15
        }
      ]
    },
    {
      "cell_type": "code",
      "source": [
        "# dict의 item(key, values)들의 집합\n",
        "book.items()"
      ],
      "metadata": {
        "colab": {
          "base_uri": "https://localhost:8080/"
        },
        "id": "MareRhE0vjR4",
        "outputId": "aca0152c-b0d2-4a0d-ab28-815ec7b28e47"
      },
      "execution_count": null,
      "outputs": [
        {
          "output_type": "execute_result",
          "data": {
            "text/plain": [
              "dict_items([('title', '점프 투 파이썬'), ('author', '박응용'), ('price', 10000)])"
            ]
          },
          "metadata": {},
          "execution_count": 16
        }
      ]
    },
    {
      "cell_type": "markdown",
      "source": [
        "대괄호 [ ] list / 소괄호 ( ) tuple / 중괄호 { } dict"
      ],
      "metadata": {
        "id": "1igMSA36wPon"
      }
    },
    {
      "cell_type": "code",
      "source": [
        "# dict에서 해당 key의 value를 리턴\n",
        "book['title'] # 인덱스 연산자 + key"
      ],
      "metadata": {
        "colab": {
          "base_uri": "https://localhost:8080/",
          "height": 36
        },
        "id": "p46jcD-ov4Nh",
        "outputId": "a7bea4f5-bc06-435f-e41a-948f04975e31"
      },
      "execution_count": null,
      "outputs": [
        {
          "output_type": "execute_result",
          "data": {
            "application/vnd.google.colaboratory.intrinsic+json": {
              "type": "string"
            },
            "text/plain": [
              "'점프 투 파이썬'"
            ]
          },
          "metadata": {},
          "execution_count": 18
        }
      ]
    },
    {
      "cell_type": "code",
      "source": [
        "book.get('title') # 메서드 호출하면서  키를 argument로 전달."
      ],
      "metadata": {
        "colab": {
          "base_uri": "https://localhost:8080/",
          "height": 36
        },
        "id": "Crr-8s1jwxCE",
        "outputId": "0da63efc-2277-4f7e-c2cf-863d986869ca"
      },
      "execution_count": null,
      "outputs": [
        {
          "output_type": "execute_result",
          "data": {
            "application/vnd.google.colaboratory.intrinsic+json": {
              "type": "string"
            },
            "text/plain": [
              "'점프 투 파이썬'"
            ]
          },
          "metadata": {},
          "execution_count": 20
        }
      ]
    },
    {
      "cell_type": "code",
      "source": [
        "# 인덱스 연산자를 사용하는 경우, dict에 없는 키를 사용하면 keyError가 발생함.\n",
        "# print(book['isbn'])\n",
        "\n",
        "# get() 메서드를 호출할 때는 dict에 없는 키인 경우 None을 리턴.\n",
        "print(book.get('isbn'))"
      ],
      "metadata": {
        "colab": {
          "base_uri": "https://localhost:8080/"
        },
        "id": "AsY7i7lVxCrG",
        "outputId": "f252bec4-e94f-4288-da4f-055656ee2c3f"
      },
      "execution_count": null,
      "outputs": [
        {
          "output_type": "stream",
          "name": "stdout",
          "text": [
            "None\n"
          ]
        }
      ]
    },
    {
      "cell_type": "code",
      "source": [
        "# dict에서 아이템 삭제\n",
        "book.pop('price')"
      ],
      "metadata": {
        "colab": {
          "base_uri": "https://localhost:8080/"
        },
        "id": "uAI7CPzByAk8",
        "outputId": "1b80ba90-65b5-4ce0-fff7-f14f1a96888e"
      },
      "execution_count": null,
      "outputs": [
        {
          "output_type": "execute_result",
          "data": {
            "text/plain": [
              "10000"
            ]
          },
          "metadata": {},
          "execution_count": 22
        }
      ]
    },
    {
      "cell_type": "code",
      "source": [
        "book"
      ],
      "metadata": {
        "colab": {
          "base_uri": "https://localhost:8080/"
        },
        "id": "8zoNTRvPy7rY",
        "outputId": "c07549dd-0d9d-4bbd-bcda-21860bceb7d9"
      },
      "execution_count": null,
      "outputs": [
        {
          "output_type": "execute_result",
          "data": {
            "text/plain": [
              "{'author': '박응용', 'title': '점프 투 파이썬'}"
            ]
          },
          "metadata": {},
          "execution_count": 23
        }
      ]
    },
    {
      "cell_type": "markdown",
      "source": [
        "dict는 키(key)와 값(value) 모두 다양한 타입의 자료들을 사용할 수 있음."
      ],
      "metadata": {
        "id": "VJtmgbyt3Uc4"
      }
    },
    {
      "cell_type": "code",
      "source": [
        "contact = {\n",
        "    'no': 1, \n",
        "    'name': '양갱',\n",
        "    'phone': ['010-1111-2222','02-1234-5678'],\n",
        "    'email': {'personal': 'gang@gmail.com','company':'yang@company.co.kr'}  \n",
        "    }\n",
        "contact"
      ],
      "metadata": {
        "colab": {
          "base_uri": "https://localhost:8080/"
        },
        "id": "Pfoa2aJw3fAH",
        "outputId": "9c3a80f6-7164-4571-d81c-c8ac6f9caf93"
      },
      "execution_count": null,
      "outputs": [
        {
          "output_type": "execute_result",
          "data": {
            "text/plain": [
              "{'email': {'company': 'yang@company.co.kr', 'personal': 'gang@gmail.com'},\n",
              " 'name': '양갱',\n",
              " 'no': 1,\n",
              " 'phone': ['010-1111-2222', '02-1234-5678']}"
            ]
          },
          "metadata": {},
          "execution_count": 32
        }
      ]
    },
    {
      "cell_type": "code",
      "source": [
        "contact['no'] #> int"
      ],
      "metadata": {
        "colab": {
          "base_uri": "https://localhost:8080/"
        },
        "id": "cMT_whEH4m47",
        "outputId": "db049198-3715-4af5-bbe6-3023cc9c38d2"
      },
      "execution_count": null,
      "outputs": [
        {
          "output_type": "execute_result",
          "data": {
            "text/plain": [
              "1"
            ]
          },
          "metadata": {},
          "execution_count": 26
        }
      ]
    },
    {
      "cell_type": "code",
      "source": [
        "contact['phone'] #> list"
      ],
      "metadata": {
        "colab": {
          "base_uri": "https://localhost:8080/"
        },
        "id": "iE6JVqQq403F",
        "outputId": "32cc2fe5-0a71-40c0-e531-be06e61977b5"
      },
      "execution_count": null,
      "outputs": [
        {
          "output_type": "execute_result",
          "data": {
            "text/plain": [
              "['010-1111-2222', '02-1234-5678']"
            ]
          },
          "metadata": {},
          "execution_count": 27
        }
      ]
    },
    {
      "cell_type": "code",
      "source": [
        "contact['phone'][0]"
      ],
      "metadata": {
        "colab": {
          "base_uri": "https://localhost:8080/",
          "height": 36
        },
        "id": "fsbVwMlj5Vqw",
        "outputId": "250f3f42-9610-4777-b3de-47d13c2ced1f"
      },
      "execution_count": null,
      "outputs": [
        {
          "output_type": "execute_result",
          "data": {
            "application/vnd.google.colaboratory.intrinsic+json": {
              "type": "string"
            },
            "text/plain": [
              "'010-1111-2222'"
            ]
          },
          "metadata": {},
          "execution_count": 28
        }
      ]
    },
    {
      "cell_type": "code",
      "source": [
        "contact['email']"
      ],
      "metadata": {
        "colab": {
          "base_uri": "https://localhost:8080/"
        },
        "id": "OSD_VeEE5YsN",
        "outputId": "3c1ce638-e5b0-4a68-8a86-bbba9ba52340"
      },
      "execution_count": null,
      "outputs": [
        {
          "output_type": "execute_result",
          "data": {
            "text/plain": [
              "{'company': 'yang@company.co.kr', 'personal': 'gang@gmail.com'}"
            ]
          },
          "metadata": {},
          "execution_count": 29
        }
      ]
    },
    {
      "cell_type": "code",
      "source": [
        "contact['email']['company']"
      ],
      "metadata": {
        "colab": {
          "base_uri": "https://localhost:8080/",
          "height": 36
        },
        "id": "k8QkctD15bXM",
        "outputId": "2e3bf02a-9eaf-4d76-8e3b-49efb0c82ae6"
      },
      "execution_count": null,
      "outputs": [
        {
          "output_type": "execute_result",
          "data": {
            "application/vnd.google.colaboratory.intrinsic+json": {
              "type": "string"
            },
            "text/plain": [
              "'yang@company.co.kr'"
            ]
          },
          "metadata": {},
          "execution_count": 30
        }
      ]
    },
    {
      "cell_type": "markdown",
      "source": [
        "# dict와 for 반복문"
      ],
      "metadata": {
        "id": "7n60esnl5vyw"
      }
    },
    {
      "cell_type": "markdown",
      "source": [
        "for-in 구문에 dict 타입 객체를 사용하면, key에 대해서 반복(iteration)을 함."
      ],
      "metadata": {
        "id": "F09zDNjH6a_I"
      }
    },
    {
      "cell_type": "code",
      "source": [
        "for k in contact:\n",
        "    print(k)"
      ],
      "metadata": {
        "colab": {
          "base_uri": "https://localhost:8080/"
        },
        "id": "ueHcSj1f5i-x",
        "outputId": "8d2627de-a027-4f78-a59d-6b1f3b16143a"
      },
      "execution_count": null,
      "outputs": [
        {
          "output_type": "stream",
          "name": "stdout",
          "text": [
            "no\n",
            "name\n",
            "phone\n",
            "email\n"
          ]
        }
      ]
    },
    {
      "cell_type": "code",
      "source": [
        "for k in contact:\n",
        "    print(k, ':', contact[k])"
      ],
      "metadata": {
        "colab": {
          "base_uri": "https://localhost:8080/"
        },
        "id": "rhDRcmTc6A0s",
        "outputId": "637bc4eb-47ec-4d82-9860-8a0305e15cb8"
      },
      "execution_count": null,
      "outputs": [
        {
          "output_type": "stream",
          "name": "stdout",
          "text": [
            "no : 1\n",
            "name : 양갱\n",
            "phone : ['010-1111-2222', '02-1234-5678']\n",
            "email : {'personal': 'gang@gmail.com', 'company': 'yang@company.co.kr'}\n"
          ]
        }
      ]
    },
    {
      "cell_type": "code",
      "source": [
        "for item in contact.items():\n",
        "    print(item)"
      ],
      "metadata": {
        "colab": {
          "base_uri": "https://localhost:8080/"
        },
        "id": "kPtNocyK6rwk",
        "outputId": "7e3b250e-4e5e-4a16-ed42-7024965f8f09"
      },
      "execution_count": null,
      "outputs": [
        {
          "output_type": "stream",
          "name": "stdout",
          "text": [
            "('no', 1)\n",
            "('name', '양갱')\n",
            "('phone', ['010-1111-2222', '02-1234-5678'])\n",
            "('email', {'personal': 'gang@gmail.com', 'company': 'yang@company.co.kr'})\n"
          ]
        }
      ]
    },
    {
      "cell_type": "code",
      "source": [
        "# tuple decomposition: k, v = ('no', 1)\n",
        "for k, v in contact.items():\n",
        "      print(k, ':', v)"
      ],
      "metadata": {
        "colab": {
          "base_uri": "https://localhost:8080/"
        },
        "id": "0tYdIEWi7AXU",
        "outputId": "f1c8c735-1789-4e71-aace-ef3bfdb4551b"
      },
      "execution_count": null,
      "outputs": [
        {
          "output_type": "stream",
          "name": "stdout",
          "text": [
            "no : 1\n",
            "name : 양갱\n",
            "phone : ['010-1111-2222', '02-1234-5678']\n",
            "email : {'personal': 'gang@gmail.com', 'company': 'yang@company.co.kr'}\n"
          ]
        }
      ]
    },
    {
      "cell_type": "markdown",
      "source": [
        "# Dictionary Comprehension"
      ],
      "metadata": {
        "id": "B_vu_IVo8AN4"
      }
    },
    {
      "cell_type": "code",
      "source": [
        "emp_no= [101, 102, 103, 201, 202] # 사번 리스트\n",
        "emp_name = ['King','Scott','Allen','Tiger','yang']"
      ],
      "metadata": {
        "id": "lhbprVeM7j2T"
      },
      "execution_count": null,
      "outputs": []
    },
    {
      "cell_type": "code",
      "source": [
        "# 사번을 key로 하고, 이름을 value로 하는 dict 객체 생성.\n",
        "# 1) empty dict\n",
        "# 2) dict[k] = v\n",
        "emp = {}\n",
        "for k in range(5):\n",
        "    emp[emp_no[k]] = emp_name[k]\n",
        "print(emp)"
      ],
      "metadata": {
        "colab": {
          "base_uri": "https://localhost:8080/"
        },
        "id": "03mk0Lt98j53",
        "outputId": "b0a01621-b673-48b1-b6ba-37730ab1cd8c"
      },
      "execution_count": null,
      "outputs": [
        {
          "output_type": "stream",
          "name": "stdout",
          "text": [
            "{101: 'King', 102: 'Scott', 103: 'Allen', 201: 'Tiger', 202: 'yang'}\n"
          ]
        }
      ]
    },
    {
      "cell_type": "code",
      "source": [
        "emp = {}\n",
        "for x, y in zip(emp_no, emp_name):\n",
        "    emp[x] = y\n",
        "emp"
      ],
      "metadata": {
        "colab": {
          "base_uri": "https://localhost:8080/"
        },
        "id": "mMUjv-6D9bvW",
        "outputId": "13b0a7a9-3cde-4d47-af9c-f20f8d78b135"
      },
      "execution_count": null,
      "outputs": [
        {
          "output_type": "execute_result",
          "data": {
            "text/plain": [
              "{101: 'King', 102: 'Scott', 103: 'Allen', 201: 'Tiger', 202: 'yang'}"
            ]
          },
          "metadata": {},
          "execution_count": 44
        }
      ]
    },
    {
      "cell_type": "code",
      "source": [
        "# dictionary comprehension\n",
        "emp = {k: v for k, v in zip(emp_no, emp_name)}\n",
        "emp"
      ],
      "metadata": {
        "colab": {
          "base_uri": "https://localhost:8080/"
        },
        "id": "fHljuIxi_QCP",
        "outputId": "c36424a2-a30f-4095-bba8-31bc4573c9a0"
      },
      "execution_count": null,
      "outputs": [
        {
          "output_type": "execute_result",
          "data": {
            "text/plain": [
              "{101: 'King', 102: 'Scott', 103: 'Allen', 201: 'Tiger', 202: 'yang'}"
            ]
          },
          "metadata": {},
          "execution_count": 45
        }
      ]
    },
    {
      "cell_type": "code",
      "source": [
        "fruits = ['apple', 'banana', 'cherry', 'pineapple','watermelon']\n",
        "\n",
        "#{과일이름:이름길이} 형식의 dict를 생성\n",
        "\n",
        "fruits_lengths = {} # 빈 dict\n",
        "for x in fruits:\n",
        "    fruits_lengths[x] = len(x) \n",
        "fruits_lengths    "
      ],
      "metadata": {
        "colab": {
          "base_uri": "https://localhost:8080/"
        },
        "id": "e4cBSibnAIPc",
        "outputId": "878203e4-ddac-485a-e4a5-6c956c39ad7a"
      },
      "execution_count": null,
      "outputs": [
        {
          "output_type": "execute_result",
          "data": {
            "text/plain": [
              "{'apple': 5, 'banana': 6, 'cherry': 6, 'pineapple': 9, 'watermelon': 10}"
            ]
          },
          "metadata": {},
          "execution_count": 54
        }
      ]
    },
    {
      "cell_type": "code",
      "source": [
        "lengths = {k: len(k) for k in fruits}\n",
        "lengths"
      ],
      "metadata": {
        "colab": {
          "base_uri": "https://localhost:8080/"
        },
        "id": "RiTDVKkjA_ZB",
        "outputId": "76153302-a980-4ee0-830f-487a15cb559d"
      },
      "execution_count": null,
      "outputs": [
        {
          "output_type": "execute_result",
          "data": {
            "text/plain": [
              "{'apple': 5, 'banana': 6, 'cherry': 6, 'pineapple': 9, 'watermelon': 10}"
            ]
          },
          "metadata": {},
          "execution_count": 56
        }
      ]
    },
    {
      "cell_type": "code",
      "source": [
        ""
      ],
      "metadata": {
        "id": "nBsIzJqSCYFd"
      },
      "execution_count": null,
      "outputs": []
    }
  ]
}