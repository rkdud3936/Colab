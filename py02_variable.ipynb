{
  "nbformat": 4,
  "nbformat_minor": 0,
  "metadata": {
    "colab": {
      "name": "py02_variable.ipynb",
      "provenance": [],
      "collapsed_sections": [],
      "authorship_tag": "ABX9TyMqVPgBhh/Oxy4KRX423VuG",
      "include_colab_link": true
    },
    "kernelspec": {
      "name": "python3",
      "display_name": "Python 3"
    },
    "language_info": {
      "name": "python"
    }
  },
  "cells": [
    {
      "cell_type": "markdown",
      "metadata": {
        "id": "view-in-github",
        "colab_type": "text"
      },
      "source": [
        "<a href=\"https://colab.research.google.com/github/rkdud3936/Colab/blob/main/py02_variable.ipynb\" target=\"_parent\"><img src=\"https://colab.research.google.com/assets/colab-badge.svg\" alt=\"Open In Colab\"/></a>"
      ]
    },
    {
      "cell_type": "markdown",
      "source": [
        "# Python Data Type(자료 타입)\n",
        "\n",
        "* 숫자 타입:\n",
        "    * int: 정수\n",
        "    * float: 실수\n",
        "* 문자열 타입: str\n",
        "* 논리 타입: bool (True/False)\n",
        "\n",
        "Python은 변수를 선언할 때 자료 타입을 명시하지 않음.\n",
        "자료 타입이 결정.\n",
        "    "
      ],
      "metadata": {
        "id": "u5YH3Sy4qVGn"
      }
    },
    {
      "cell_type": "code",
      "execution_count": null,
      "metadata": {
        "colab": {
          "base_uri": "https://localhost:8080/"
        },
        "id": "54J1fldtp9Ak",
        "outputId": "c886e997-7fdf-4969-a2d8-4cbd2ee856b7"
      },
      "outputs": [
        {
          "output_type": "stream",
          "name": "stdout",
          "text": [
            "100\n",
            "<class 'int'>\n"
          ]
        }
      ],
      "source": [
        "# (주석, comment)\n",
        "# 변수 = 값\n",
        "n = 100\n",
        "print(n)\n",
        "print(type(n))  # type(arg): arg의 자료 타입을 리턴하는 함수.\n"
      ]
    },
    {
      "cell_type": "markdown",
      "source": [
        "식(expression): 값, 변수, 리턴 값이 있는 함수 호출, 연산.\n",
        "\n",
        "ipynb 코드 셀에서 가장 마지막 줄에 있는 문장이 식(expression)인 경우, 식을 평가한 결과를 출력창에 출력해 줌."
      ],
      "metadata": {
        "id": "rp10lwc8sW8R"
      }
    },
    {
      "cell_type": "code",
      "source": [
        "print(n)\n",
        "n+1"
      ],
      "metadata": {
        "colab": {
          "base_uri": "https://localhost:8080/"
        },
        "id": "cbxoHFNHr4yb",
        "outputId": "907efe7e-27d7-4979-caf0-41841026353d"
      },
      "execution_count": null,
      "outputs": [
        {
          "output_type": "stream",
          "name": "stdout",
          "text": [
            "100\n"
          ]
        },
        {
          "output_type": "execute_result",
          "data": {
            "text/plain": [
              "101"
            ]
          },
          "metadata": {},
          "execution_count": 24
        }
      ]
    },
    {
      "cell_type": "code",
      "source": [
        "pi = 3.14\n",
        "print(pi)\n",
        "type(pi)\n"
      ],
      "metadata": {
        "colab": {
          "base_uri": "https://localhost:8080/"
        },
        "id": "tcRpSfb-r7xQ",
        "outputId": "cf49098f-d873-480b-8005-a29b2c14cdf4"
      },
      "execution_count": null,
      "outputs": [
        {
          "output_type": "stream",
          "name": "stdout",
          "text": [
            "3.14\n"
          ]
        },
        {
          "output_type": "execute_result",
          "data": {
            "text/plain": [
              "float"
            ]
          },
          "metadata": {},
          "execution_count": 25
        }
      ]
    },
    {
      "cell_type": "markdown",
      "source": [
        "## 명시적 타입 변환\n",
        "\n",
        "* `int(값)` : 값을 정수 타입으로 변환하는 함수.\n",
        "* `float(값)`: 값을 실수 타입으로 변환하는 함수.\n",
        "+ `str(값)`: 값을 문자열 타입으로 변환하는 함수.\n"
      ],
      "metadata": {
        "id": "R6pyb9Qytfh1"
      }
    },
    {
      "cell_type": "code",
      "source": [
        "# 콘솔 창에서 사용자 입력 받기\n",
        "n = input('정수를 입력>>>')"
      ],
      "metadata": {
        "colab": {
          "base_uri": "https://localhost:8080/"
        },
        "id": "R-ZzxlSbtUbo",
        "outputId": "cce8f7ba-8af8-4477-f3c8-baf277f13f97"
      },
      "execution_count": null,
      "outputs": [
        {
          "name": "stdout",
          "output_type": "stream",
          "text": [
            "정수를 입력>>>100\n"
          ]
        }
      ]
    },
    {
      "cell_type": "code",
      "source": [
        "type(n) #> str(문자열)"
      ],
      "metadata": {
        "colab": {
          "base_uri": "https://localhost:8080/"
        },
        "id": "dHw9hSS7ui7V",
        "outputId": "2db74900-1d8d-41bc-d7e6-287f670e399c"
      },
      "execution_count": null,
      "outputs": [
        {
          "output_type": "execute_result",
          "data": {
            "text/plain": [
              "str"
            ]
          },
          "metadata": {},
          "execution_count": 27
        }
      ]
    },
    {
      "cell_type": "code",
      "source": [
        "n = int(n) # 변수 n의 타입을 정수 타입으로 변환해서 저장\n"
      ],
      "metadata": {
        "id": "yIQstDPguoV0"
      },
      "execution_count": null,
      "outputs": []
    },
    {
      "cell_type": "code",
      "source": [
        "type(n)"
      ],
      "metadata": {
        "colab": {
          "base_uri": "https://localhost:8080/"
        },
        "id": "AnzFmsrwut57",
        "outputId": "7483591a-c7f4-42a3-b053-cf897f98c9a4"
      },
      "execution_count": null,
      "outputs": [
        {
          "output_type": "execute_result",
          "data": {
            "text/plain": [
              "int"
            ]
          },
          "metadata": {},
          "execution_count": 29
        }
      ]
    },
    {
      "cell_type": "markdown",
      "source": [
        "# 산술 연산자\n",
        "\n",
        "* 산술 연산자: 숫자(int, float) 타입의 연산에 사용.\n",
        "* 산술 연산자 종류: `+`, `-`, `*`, `/`, `//`(몫), `%`(나머지), `**`(거듭제곱)"
      ],
      "metadata": {
        "id": "5J79L2fovGkd"
      }
    },
    {
      "cell_type": "code",
      "source": [
        "x = 10\n",
        "y = 3\n",
        "print(f'{x} / {y} = {x / y}')\n",
        "print(f'{x} // {y} = {x // y}')\n",
        "print(f'{x} % {y} = {x % y}')\n",
        "print(f'{x} ^ 2  = {x ** 2}')\n",
        "print(f'{x} ^ -1  = {x ** -1}')"
      ],
      "metadata": {
        "colab": {
          "base_uri": "https://localhost:8080/"
        },
        "id": "7NaaUYyTu1iH",
        "outputId": "d2be78a0-c9eb-4084-ab37-59515cb362d2"
      },
      "execution_count": null,
      "outputs": [
        {
          "output_type": "stream",
          "name": "stdout",
          "text": [
            "10 / 3 = 3.3333333333333335\n",
            "10 // 3 = 3\n",
            "10 % 3 = 1\n",
            "10 ^ 2  = 100\n",
            "10 ^ -1  = 0.1\n"
          ]
        }
      ]
    },
    {
      "cell_type": "markdown",
      "source": [
        "## 문자열(str) 타입에서 사용할 수 있는 연산자\n",
        "* `+`: concatenate. 문자열 이어 붙이기.\n",
        "* `*`: replicate. 문자열 복제."
      ],
      "metadata": {
        "id": "g6gtDmdbxEuk"
      }
    },
    {
      "cell_type": "code",
      "source": [
        "'Hello' + 'Python'"
      ],
      "metadata": {
        "colab": {
          "base_uri": "https://localhost:8080/",
          "height": 35
        },
        "id": "sZVvJbe9wBFQ",
        "outputId": "6194c46b-9526-4a31-f442-85957a5cc19c"
      },
      "execution_count": null,
      "outputs": [
        {
          "output_type": "execute_result",
          "data": {
            "application/vnd.google.colaboratory.intrinsic+json": {
              "type": "string"
            },
            "text/plain": [
              "'HelloPython'"
            ]
          },
          "metadata": {},
          "execution_count": 31
        }
      ]
    },
    {
      "cell_type": "code",
      "source": [
        "'Hello ' * 3"
      ],
      "metadata": {
        "colab": {
          "base_uri": "https://localhost:8080/",
          "height": 35
        },
        "id": "kUxdw7jVxgGZ",
        "outputId": "2b27c3ab-1e09-4526-863f-140854535adf"
      },
      "execution_count": null,
      "outputs": [
        {
          "output_type": "execute_result",
          "data": {
            "application/vnd.google.colaboratory.intrinsic+json": {
              "type": "string"
            },
            "text/plain": [
              "'Hello Hello Hello '"
            ]
          },
          "metadata": {},
          "execution_count": 32
        }
      ]
    },
    {
      "cell_type": "markdown",
      "source": [
        "# 비교 연산자와 논리 연산자\n",
        "\n",
        "* 비교 연산자: `==`, `!=`, `>`, `<`, `>=`, `<=`\n",
        "* 논리 연산자: `and`, `or`, `not`"
      ],
      "metadata": {
        "id": "AuzC7JpgEXtw"
      }
    },
    {
      "cell_type": "code",
      "source": [
        "x = 100"
      ],
      "metadata": {
        "id": "dmuP770wEVZb"
      },
      "execution_count": null,
      "outputs": []
    },
    {
      "cell_type": "code",
      "source": [
        "(x > 50) and (x < 150)"
      ],
      "metadata": {
        "colab": {
          "base_uri": "https://localhost:8080/"
        },
        "id": "a0XHQso5FE-_",
        "outputId": "19c1550a-9b7a-4f61-a993-9cc4a6b6db8a"
      },
      "execution_count": null,
      "outputs": [
        {
          "output_type": "execute_result",
          "data": {
            "text/plain": [
              "True"
            ]
          },
          "metadata": {},
          "execution_count": 34
        }
      ]
    },
    {
      "cell_type": "code",
      "source": [
        "50 < x < 150 # x > 50 and x < 150 와 같은 코드"
      ],
      "metadata": {
        "colab": {
          "base_uri": "https://localhost:8080/"
        },
        "id": "ABCSSg2tFKBX",
        "outputId": "99640011-1b41-49c5-eb77-0b27620205ff"
      },
      "execution_count": null,
      "outputs": [
        {
          "output_type": "execute_result",
          "data": {
            "text/plain": [
              "True"
            ]
          },
          "metadata": {},
          "execution_count": 35
        }
      ]
    }
  ]
}