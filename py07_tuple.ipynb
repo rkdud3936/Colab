{
  "nbformat": 4,
  "nbformat_minor": 0,
  "metadata": {
    "colab": {
      "name": "py07_tuple.ipynb",
      "provenance": [],
      "authorship_tag": "ABX9TyNcj8vhAebcLIkP2clxrEUq",
      "include_colab_link": true
    },
    "kernelspec": {
      "name": "python3",
      "display_name": "Python 3"
    },
    "language_info": {
      "name": "python"
    }
  },
  "cells": [
    {
      "cell_type": "markdown",
      "metadata": {
        "id": "view-in-github",
        "colab_type": "text"
      },
      "source": [
        "<a href=\"https://colab.research.google.com/github/rkdud3936/Python/blob/main/py07_tuple.ipynb\" target=\"_parent\"><img src=\"https://colab.research.google.com/assets/colab-badge.svg\" alt=\"Open In Colab\"/></a>"
      ]
    },
    {
      "cell_type": "markdown",
      "source": [
        "# 튜플(tuple)"
      ],
      "metadata": {
        "id": "B_G58_I6QYyE"
      }
    },
    {
      "cell_type": "markdown",
      "source": [
        "* tuple: 저장된 원소(아이템)들을 변경할 수 없는 리스트.\n",
        "* 인덱스 기반의 데이터 타입. 인덱스를 사용해서 원소를 참조함. --> indexing, slicing\n",
        "* append(), insert(), extend(), remove(), pop()와 같은 기능(메서드)들은 제공되지 않음.\n"
      ],
      "metadata": {
        "id": "AOPSOxM8QdMs"
      }
    },
    {
      "cell_type": "code",
      "execution_count": null,
      "metadata": {
        "colab": {
          "base_uri": "https://localhost:8080/"
        },
        "id": "CT7kDpB3QMeE",
        "outputId": "fa874ee2-e783-4a8e-ce7f-45dcdd9fd6d2"
      },
      "outputs": [
        {
          "output_type": "execute_result",
          "data": {
            "text/plain": [
              "(1, 2, 10, 20, 100)"
            ]
          },
          "metadata": {},
          "execution_count": 1
        }
      ],
      "source": [
        "numbers = (1, 2, 10, 20, 100)\n",
        "numbers"
      ]
    },
    {
      "cell_type": "code",
      "source": [
        "type(numbers)"
      ],
      "metadata": {
        "colab": {
          "base_uri": "https://localhost:8080/"
        },
        "id": "Rxnr1QG7RVb0",
        "outputId": "ff8bc248-af8e-4ca8-a64d-43e890f83099"
      },
      "execution_count": null,
      "outputs": [
        {
          "output_type": "execute_result",
          "data": {
            "text/plain": [
              "tuple"
            ]
          },
          "metadata": {},
          "execution_count": 2
        }
      ]
    },
    {
      "cell_type": "markdown",
      "source": [
        "#indexing"
      ],
      "metadata": {
        "id": "F6PMdLlLRrf6"
      }
    },
    {
      "cell_type": "code",
      "source": [
        "numbers[0] # 시작 인덱스: 0"
      ],
      "metadata": {
        "colab": {
          "base_uri": "https://localhost:8080/"
        },
        "id": "lUvfXUQDRia0",
        "outputId": "9b9995b3-ff98-44c8-d55b-4fc3b0dbb57d"
      },
      "execution_count": null,
      "outputs": [
        {
          "output_type": "execute_result",
          "data": {
            "text/plain": [
              "1"
            ]
          },
          "metadata": {},
          "execution_count": 3
        }
      ]
    },
    {
      "cell_type": "code",
      "source": [
        "numbers[4] # 마지막 인덱스: 원소 개수 - 1 "
      ],
      "metadata": {
        "colab": {
          "base_uri": "https://localhost:8080/"
        },
        "id": "hnA4-RFFRyhe",
        "outputId": "c503aaca-afa6-407e-d707-9539ef045203"
      },
      "execution_count": null,
      "outputs": [
        {
          "output_type": "execute_result",
          "data": {
            "text/plain": [
              "100"
            ]
          },
          "metadata": {},
          "execution_count": 4
        }
      ]
    },
    {
      "cell_type": "code",
      "source": [
        "numbers[-1] # 튜플의 가장 마지막 원소"
      ],
      "metadata": {
        "colab": {
          "base_uri": "https://localhost:8080/"
        },
        "id": "iNfM7VI-R0hM",
        "outputId": "b94734c4-209b-467e-d96b-9fced4a36ea8"
      },
      "execution_count": null,
      "outputs": [
        {
          "output_type": "execute_result",
          "data": {
            "text/plain": [
              "100"
            ]
          },
          "metadata": {},
          "execution_count": 5
        }
      ]
    },
    {
      "cell_type": "markdown",
      "source": [
        "# slicing"
      ],
      "metadata": {
        "id": "wekx-v5eSt_t"
      }
    },
    {
      "cell_type": "code",
      "source": [
        "numbers[1:4] #> tuple"
      ],
      "metadata": {
        "colab": {
          "base_uri": "https://localhost:8080/"
        },
        "id": "mxdBaahySJOu",
        "outputId": "a93ad03d-768e-4bed-95b7-0075a5040baa"
      },
      "execution_count": null,
      "outputs": [
        {
          "output_type": "execute_result",
          "data": {
            "text/plain": [
              "(2, 10, 20)"
            ]
          },
          "metadata": {},
          "execution_count": 9
        }
      ]
    },
    {
      "cell_type": "code",
      "source": [
        "numbers[:3] #> tuple에서 앞에서 3개 원소 선택\n"
      ],
      "metadata": {
        "colab": {
          "base_uri": "https://localhost:8080/"
        },
        "id": "ETTBCsDdSyl2",
        "outputId": "43c83e29-2c1e-406b-e43f-5e68458521af"
      },
      "execution_count": null,
      "outputs": [
        {
          "output_type": "execute_result",
          "data": {
            "text/plain": [
              "(1, 2, 10)"
            ]
          },
          "metadata": {},
          "execution_count": 10
        }
      ]
    },
    {
      "cell_type": "code",
      "source": [
        "numbers[-3:]#> tuple에서 끝에서 3개 원소 선택\n"
      ],
      "metadata": {
        "colab": {
          "base_uri": "https://localhost:8080/"
        },
        "id": "3yGkaZ0RTW8B",
        "outputId": "71ea7f4c-5d67-4174-822a-6b80367983cc"
      },
      "execution_count": null,
      "outputs": [
        {
          "output_type": "execute_result",
          "data": {
            "text/plain": [
              "(10, 20, 100)"
            ]
          },
          "metadata": {},
          "execution_count": 11
        }
      ]
    },
    {
      "cell_type": "markdown",
      "source": [
        "# decomposition(분해)"
      ],
      "metadata": {
        "id": "EvJsZEvZUBTO"
      }
    },
    {
      "cell_type": "code",
      "source": [
        "first, second = (100, 50)\n",
        "print(first)\n",
        "print(second)"
      ],
      "metadata": {
        "colab": {
          "base_uri": "https://localhost:8080/"
        },
        "id": "DTLJ2d0MTm89",
        "outputId": "8f61ef4f-09f7-44c2-9733-d493b5c396a9"
      },
      "execution_count": null,
      "outputs": [
        {
          "output_type": "stream",
          "name": "stdout",
          "text": [
            "100\n",
            "50\n"
          ]
        }
      ]
    },
    {
      "cell_type": "code",
      "source": [
        "# tuple뿐만 아니라 list도 decomposition이 가능.\n",
        "x, y, z = [1, 2, 3]\n",
        "print(f'x = {x}, y = {y}, z = {z}')"
      ],
      "metadata": {
        "colab": {
          "base_uri": "https://localhost:8080/"
        },
        "id": "fa5bkNgKUdBX",
        "outputId": "6d805a0e-fe5a-4c6c-dcee-428787f63597"
      },
      "execution_count": null,
      "outputs": [
        {
          "output_type": "stream",
          "name": "stdout",
          "text": [
            "x = 1, y = 2, z = 3\n"
          ]
        }
      ]
    },
    {
      "cell_type": "markdown",
      "source": [
        "# tuple과 for 반복문"
      ],
      "metadata": {
        "id": "6SIejY9YVCiY"
      }
    },
    {
      "cell_type": "code",
      "source": [
        "numbers = (1, 20, 3, 40, 500, 1000)\n",
        "for x in numbers:\n",
        "    print(x, end = ', ')"
      ],
      "metadata": {
        "colab": {
          "base_uri": "https://localhost:8080/"
        },
        "id": "sRAI0dSXU9kf",
        "outputId": "f73555be-1c3b-447e-e309-585c95603d51"
      },
      "execution_count": null,
      "outputs": [
        {
          "output_type": "stream",
          "name": "stdout",
          "text": [
            "1, 20, 3, 40, 500, 1000, "
          ]
        }
      ]
    },
    {
      "cell_type": "code",
      "source": [
        "numbers = ((1, 2),\n",
        "           (3, 4),\n",
        "           (5, 6))\n",
        "numbers"
      ],
      "metadata": {
        "colab": {
          "base_uri": "https://localhost:8080/"
        },
        "id": "JYIDcOJrVTto",
        "outputId": "2642e724-dd1e-4d89-8d5b-a1e98d5e60dc"
      },
      "execution_count": null,
      "outputs": [
        {
          "output_type": "execute_result",
          "data": {
            "text/plain": [
              "((1, 2), (3, 4), (5, 6))"
            ]
          },
          "metadata": {},
          "execution_count": 17
        }
      ]
    },
    {
      "cell_type": "code",
      "source": [
        "for row in numbers:\n",
        "    for x in row:\n",
        "        print(x, end = ' ')\n",
        "    print()           "
      ],
      "metadata": {
        "colab": {
          "base_uri": "https://localhost:8080/"
        },
        "id": "E76henevV1bT",
        "outputId": "7a324359-962d-49bd-dcb6-6176e43db08f"
      },
      "execution_count": null,
      "outputs": [
        {
          "output_type": "stream",
          "name": "stdout",
          "text": [
            "1 2 \n",
            "3 4 \n",
            "5 6 \n"
          ]
        }
      ]
    },
    {
      "cell_type": "code",
      "source": [
        "numbers[2][1]"
      ],
      "metadata": {
        "colab": {
          "base_uri": "https://localhost:8080/"
        },
        "id": "EdNaukIdV3lO",
        "outputId": "f8e7a481-c430-48b9-ec14-7b5f215abd1a"
      },
      "execution_count": null,
      "outputs": [
        {
          "output_type": "execute_result",
          "data": {
            "text/plain": [
              "6"
            ]
          },
          "metadata": {},
          "execution_count": 24
        }
      ]
    },
    {
      "cell_type": "code",
      "source": [
        ""
      ],
      "metadata": {
        "id": "9kDGQ099WX49"
      },
      "execution_count": null,
      "outputs": []
    }
  ]
}